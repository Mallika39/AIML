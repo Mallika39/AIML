{
 "cells": [
  {
   "cell_type": "markdown",
   "metadata": {},
   "source": [
    "# CSE-221710313039-MALLIKA REDDY"
   ]
  },
  {
   "cell_type": "code",
   "execution_count": 4,
   "metadata": {},
   "outputs": [
    {
     "name": "stdout",
     "output_type": "stream",
     "text": [
      "enter a number12\n",
      "adam number\n"
     ]
    }
   ],
   "source": [
    "#adam number\n",
    "n = int(input(\"enter a number\"))\n",
    "if int(str(n**2)[::-1]) == int(str(n)[::-1])**2:\n",
    "    print(\"adam number\")\n",
    "else:\n",
    "    print(\"not an adam number\")"
   ]
  },
  {
   "cell_type": "code",
   "execution_count": 5,
   "metadata": {},
   "outputs": [
    {
     "data": {
      "text/plain": [
       "120"
      ]
     },
     "execution_count": 5,
     "metadata": {},
     "output_type": "execute_result"
    }
   ],
   "source": [
    "#factorial using recursion\n",
    "def Factorial(n):\n",
    "    if n == 0 or n == 1:\n",
    "        return 1\n",
    "    else:\n",
    "        return n*Factorial(n-1)\n",
    "    \n",
    "Factorial(5)    "
   ]
  },
  {
   "cell_type": "code",
   "execution_count": 6,
   "metadata": {},
   "outputs": [
    {
     "data": {
      "text/plain": [
       "34"
      ]
     },
     "execution_count": 6,
     "metadata": {},
     "output_type": "execute_result"
    }
   ],
   "source": [
    "#fibonacci series:0,1,1,2,3,5,8,13,21,34........\n",
    "def recur_fibo(n):\n",
    "    if n == 1:\n",
    "        return 0\n",
    "    elif n == 2:\n",
    "        return 1\n",
    "    else:\n",
    "        return recur_fibo(n-1)+recur_fibo(n-2)\n",
    "    \n",
    "recur_fibo(10)"
   ]
  },
  {
   "cell_type": "code",
   "execution_count": 11,
   "metadata": {},
   "outputs": [
    {
     "name": "stdout",
     "output_type": "stream",
     "text": [
      "sum of all elements in given list:  105\n"
     ]
    }
   ],
   "source": [
    "# print sum of numbers in a list\n",
    "total=0\n",
    "list=[5,10,15,20,25,30]\n",
    "for i in range(0,len(list)):\n",
    "    total=total+list[i]\n",
    "print(\"sum of all elements in given list: \",total)"
   ]
  },
  {
   "cell_type": "code",
   "execution_count": 15,
   "metadata": {},
   "outputs": [
    {
     "name": "stdout",
     "output_type": "stream",
     "text": [
      "2 4 6 8 10 "
     ]
    }
   ],
   "source": [
    "#print only even numbers from the list\n",
    "list=[2,3,4,5,6,7,8,9,10]\n",
    "for i in list:\n",
    "    if i%2 == 0:\n",
    "        print(i,end=\" \")"
   ]
  },
  {
   "cell_type": "code",
   "execution_count": 53,
   "metadata": {},
   "outputs": [
    {
     "name": "stdout",
     "output_type": "stream",
     "text": [
      "2\n",
      "index of the smallest number is:  3\n"
     ]
    }
   ],
   "source": [
    "#display smallest number from the list and index of the smallest number\n",
    "list=[25,15,8,2,6]\n",
    "print(min(list))\n",
    "print(\"index of the smallest number is: \",list.index(min(list)))"
   ]
  },
  {
   "cell_type": "code",
   "execution_count": 21,
   "metadata": {},
   "outputs": [
    {
     "name": "stdout",
     "output_type": "stream",
     "text": [
      "enter a string:madam\n",
      "the string is a palindrome\n"
     ]
    }
   ],
   "source": [
    "#palindrome or not\n",
    "string=input(\"enter a string:\")\n",
    "if(string==string[::-1]):\n",
    "    print(\"the string is a palindrome\")\n",
    "else:\n",
    "    print(\"the string is not a palindrome\")"
   ]
  },
  {
   "cell_type": "code",
   "execution_count": 27,
   "metadata": {},
   "outputs": [
    {
     "name": "stdout",
     "output_type": "stream",
     "text": [
      "even numbers in the list:  4\n",
      "odd numbers in the list:  5\n"
     ]
    }
   ],
   "source": [
    "#counting no.of even and odd numbers\n",
    "list=[1,2,3,4,5,6,7,8,9]\n",
    "c1=0\n",
    "c2=0\n",
    "for i in list:\n",
    "    if(i%2==0):\n",
    "        c1+=1\n",
    "    else:\n",
    "        c2+=1\n",
    "print(\"even numbers in the list: \",c1)  \n",
    "print(\"odd numbers in the list: \",c2)"
   ]
  },
  {
   "cell_type": "code",
   "execution_count": 30,
   "metadata": {},
   "outputs": [
    {
     "name": "stdout",
     "output_type": "stream",
     "text": [
      "0 1 2 4 5 \n",
      "\n"
     ]
    }
   ],
   "source": [
    "#printing numbers from 0-6 except 3,6\n",
    "for X in range(6):\n",
    "    if(X==3 or X==6):\n",
    "        continue\n",
    "    print(X,end=\" \")\n",
    "print(\"\\n\")"
   ]
  },
  {
   "cell_type": "code",
   "execution_count": 50,
   "metadata": {},
   "outputs": [
    {
     "name": "stdout",
     "output_type": "stream",
     "text": [
      "enter a number:12\n",
      "12 is not a prime\n"
     ]
    }
   ],
   "source": [
    "#prime or not\n",
    "num=int(input(\"enter a number:\"))     \n",
    "if(num % 2 == 0):\n",
    "    print(num,\"is not a prime\")\n",
    "else:\n",
    "    print(num,\"is a prime number\")"
   ]
  },
  {
   "cell_type": "code",
   "execution_count": null,
   "metadata": {},
   "outputs": [],
   "source": []
  }
 ],
 "metadata": {
  "kernelspec": {
   "display_name": "Python 3",
   "language": "python",
   "name": "python3"
  },
  "language_info": {
   "codemirror_mode": {
    "name": "ipython",
    "version": 3
   },
   "file_extension": ".py",
   "mimetype": "text/x-python",
   "name": "python",
   "nbconvert_exporter": "python",
   "pygments_lexer": "ipython3",
   "version": "3.7.6"
  }
 },
 "nbformat": 4,
 "nbformat_minor": 4
}
