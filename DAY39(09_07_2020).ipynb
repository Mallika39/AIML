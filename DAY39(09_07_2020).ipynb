{
  "nbformat": 4,
  "nbformat_minor": 0,
  "metadata": {
    "colab": {
      "name": "09-07-2020",
      "provenance": [],
      "collapsed_sections": []
    },
    "kernelspec": {
      "name": "python3",
      "display_name": "Python 3"
    }
  },
  "cells": [
    {
      "cell_type": "markdown",
      "metadata": {
        "id": "OMuFuJw3v6g4",
        "colab_type": "text"
      },
      "source": [
        "#Hand Written Recognition"
      ]
    },
    {
      "cell_type": "markdown",
      "metadata": {
        "id": "Zc92bzLIwG70",
        "colab_type": "text"
      },
      "source": [
        "# Importing the required packages\n",
        "\n",
        "*   List item\n",
        "*   List item\n",
        "\n"
      ]
    },
    {
      "cell_type": "code",
      "metadata": {
        "id": "vTWYliVXwTgJ",
        "colab_type": "code",
        "colab": {
          "base_uri": "https://localhost:8080/",
          "height": 72
        },
        "outputId": "9164f6ed-e020-4a9b-dbf5-54b9b3e72e31"
      },
      "source": [
        "\n",
        "#impoting libs:\n",
        "import tensorflow as tf\n",
        "import tensorflow.keras as keras\n",
        "import numpy as np\n",
        "import pandas as pd\n",
        "import matplotlib.pyplot as plt\n",
        "import seaborn as sns\n",
        "%matplotlib inline"
      ],
      "execution_count": 29,
      "outputs": [
        {
          "output_type": "stream",
          "text": [
            "/usr/local/lib/python3.6/dist-packages/statsmodels/tools/_testing.py:19: FutureWarning: pandas.util.testing is deprecated. Use the functions in the public API at pandas.testing instead.\n",
            "  import pandas.util.testing as tm\n"
          ],
          "name": "stderr"
        }
      ]
    },
    {
      "cell_type": "markdown",
      "metadata": {
        "id": "QiRGNcYnwmUM",
        "colab_type": "text"
      },
      "source": [
        "# load the MNIST dataset"
      ]
    },
    {
      "cell_type": "code",
      "metadata": {
        "id": "9DWZAVL0wrF7",
        "colab_type": "code",
        "colab": {
          "base_uri": "https://localhost:8080/",
          "height": 35
        },
        "outputId": "3255920e-d034-4983-a634-5cf4bd29e5df"
      },
      "source": [
        "from keras.datasets.mnist import load_data"
      ],
      "execution_count": 3,
      "outputs": [
        {
          "output_type": "stream",
          "text": [
            "Using TensorFlow backend.\n"
          ],
          "name": "stderr"
        }
      ]
    },
    {
      "cell_type": "code",
      "metadata": {
        "id": "7WyK5T6Uw0xX",
        "colab_type": "code",
        "colab": {
          "base_uri": "https://localhost:8080/",
          "height": 69
        },
        "outputId": "8f50d335-0b5c-42fe-9696-ad0264fe4c87"
      },
      "source": [
        "## load_data --return value is two tuples train,test\n",
        "(train_digits,train_labels),(test_digits,test_labels) = load_data()\n",
        "print(train_digits.shape)"
      ],
      "execution_count": 4,
      "outputs": [
        {
          "output_type": "stream",
          "text": [
            "Downloading data from https://s3.amazonaws.com/img-datasets/mnist.npz\n",
            "11493376/11490434 [==============================] - 2s 0us/step\n",
            "(60000, 28, 28)\n"
          ],
          "name": "stdout"
        }
      ]
    },
    {
      "cell_type": "markdown",
      "metadata": {
        "id": "ibruco6dxREJ",
        "colab_type": "text"
      },
      "source": [
        "There are 60000 images in the training data.Each image is 28*28"
      ]
    },
    {
      "cell_type": "code",
      "metadata": {
        "id": "z2KGVB0Qxauq",
        "colab_type": "code",
        "colab": {
          "base_uri": "https://localhost:8080/",
          "height": 35
        },
        "outputId": "3e97f811-140b-4d0f-fb1a-283333a0e2f6"
      },
      "source": [
        "print(test_digits.shape)"
      ],
      "execution_count": 5,
      "outputs": [
        {
          "output_type": "stream",
          "text": [
            "(10000, 28, 28)\n"
          ],
          "name": "stdout"
        }
      ]
    },
    {
      "cell_type": "markdown",
      "metadata": {
        "id": "A5SJcq6rxteM",
        "colab_type": "text"
      },
      "source": [
        "there are 10 classes from class 0 to class 9"
      ]
    },
    {
      "cell_type": "code",
      "metadata": {
        "id": "lmujCcrVx2LW",
        "colab_type": "code",
        "colab": {
          "base_uri": "https://localhost:8080/",
          "height": 35
        },
        "outputId": "03d2fea2-5071-4081-8137-d56ca89934c1"
      },
      "source": [
        "print(train_labels.shape)"
      ],
      "execution_count": 6,
      "outputs": [
        {
          "output_type": "stream",
          "text": [
            "(60000,)\n"
          ],
          "name": "stdout"
        }
      ]
    },
    {
      "cell_type": "markdown",
      "metadata": {
        "id": "RNo_A4Dux-g7",
        "colab_type": "text"
      },
      "source": [
        "class wise images count"
      ]
    },
    {
      "cell_type": "code",
      "metadata": {
        "id": "XPBgr1jQyBVs",
        "colab_type": "code",
        "colab": {
          "base_uri": "https://localhost:8080/",
          "height": 35
        },
        "outputId": "8ecc488a-8eda-499f-bed2-8f817ff8884d"
      },
      "source": [
        "type(train_labels)"
      ],
      "execution_count": 7,
      "outputs": [
        {
          "output_type": "execute_result",
          "data": {
            "text/plain": [
              "numpy.ndarray"
            ]
          },
          "metadata": {
            "tags": []
          },
          "execution_count": 7
        }
      ]
    },
    {
      "cell_type": "code",
      "metadata": {
        "id": "oahMGaSKyxjb",
        "colab_type": "code",
        "colab": {
          "base_uri": "https://localhost:8080/",
          "height": 208
        },
        "outputId": "1f8eeb6e-44bf-4a30-84ee-b09378f71d29"
      },
      "source": [
        "pd.Series(train_labels).value_counts()"
      ],
      "execution_count": 8,
      "outputs": [
        {
          "output_type": "execute_result",
          "data": {
            "text/plain": [
              "1    6742\n",
              "7    6265\n",
              "3    6131\n",
              "2    5958\n",
              "9    5949\n",
              "0    5923\n",
              "6    5918\n",
              "8    5851\n",
              "4    5842\n",
              "5    5421\n",
              "dtype: int64"
            ]
          },
          "metadata": {
            "tags": []
          },
          "execution_count": 8
        }
      ]
    },
    {
      "cell_type": "code",
      "metadata": {
        "id": "68o5Sen7x0tn",
        "colab_type": "code",
        "colab": {}
      },
      "source": [
        ""
      ],
      "execution_count": 8,
      "outputs": []
    },
    {
      "cell_type": "markdown",
      "metadata": {
        "id": "TJHm4u47zrKb",
        "colab_type": "text"
      },
      "source": [
        "image count for each label in test data"
      ]
    },
    {
      "cell_type": "code",
      "metadata": {
        "id": "yttfHrcszvMT",
        "colab_type": "code",
        "colab": {
          "base_uri": "https://localhost:8080/",
          "height": 208
        },
        "outputId": "b4a4c053-6bac-46a4-c2df-f305109e4f34"
      },
      "source": [
        "pd.Series(test_labels).value_counts()"
      ],
      "execution_count": 9,
      "outputs": [
        {
          "output_type": "execute_result",
          "data": {
            "text/plain": [
              "1    1135\n",
              "2    1032\n",
              "7    1028\n",
              "3    1010\n",
              "9    1009\n",
              "4     982\n",
              "0     980\n",
              "8     974\n",
              "6     958\n",
              "5     892\n",
              "dtype: int64"
            ]
          },
          "metadata": {
            "tags": []
          },
          "execution_count": 9
        }
      ]
    },
    {
      "cell_type": "markdown",
      "metadata": {
        "id": "RtOyo_c7z11V",
        "colab_type": "text"
      },
      "source": [
        "EDA"
      ]
    },
    {
      "cell_type": "code",
      "metadata": {
        "id": "zoMh4qfdz3Lg",
        "colab_type": "code",
        "colab": {
          "base_uri": "https://localhost:8080/",
          "height": 299
        },
        "outputId": "b826a6a2-08a6-483a-9ea7-36ba389e7913"
      },
      "source": [
        "plt.imshow(train_digits[0])\n",
        "plt.title(\"Digit\" + str(train_labels[0]))"
      ],
      "execution_count": 10,
      "outputs": [
        {
          "output_type": "execute_result",
          "data": {
            "text/plain": [
              "Text(0.5, 1.0, 'Digit5')"
            ]
          },
          "metadata": {
            "tags": []
          },
          "execution_count": 10
        },
        {
          "output_type": "display_data",
          "data": {
            "image/png": "[encoded data removed]",
            "text/plain": [
              "<Figure size 432x288 with 1 Axes>"
            ]
          },
          "metadata": {
            "tags": [],
            "needs_background": "light"
          }
        }
      ]
    },
    {
      "cell_type": "code",
      "metadata": {
        "id": "qx6sjQLv3L_d",
        "colab_type": "code",
        "colab": {
          "base_uri": "https://localhost:8080/",
          "height": 299
        },
        "outputId": "3966024f-5aea-4f5e-b76f-ce7c00a3e4b8"
      },
      "source": [
        "plt.imshow(train_digits[0],cmap='gray')\n",
        "plt.title(\"Digit\" + str(train_labels[0]))"
      ],
      "execution_count": 11,
      "outputs": [
        {
          "output_type": "execute_result",
          "data": {
            "text/plain": [
              "Text(0.5, 1.0, 'Digit5')"
            ]
          },
          "metadata": {
            "tags": []
          },
          "execution_count": 11
        },
        {
          "output_type": "display_data",
          "data": {
            "image/png": "[encoded data removed]",
            "text/plain": [
              "<Figure size 432x288 with 1 Axes>"
            ]
          },
          "metadata": {
            "tags": [],
            "needs_background": "light"
          }
        }
      ]
    },
    {
      "cell_type": "code",
      "metadata": {
        "id": "MWUZEAoK3XNd",
        "colab_type": "code",
        "colab": {
          "base_uri": "https://localhost:8080/",
          "height": 104
        },
        "outputId": "bc39ff8a-2701-48e8-fb9e-b5f6f45eebe3"
      },
      "source": [
        "train_digits[0][5:10,22:25]"
      ],
      "execution_count": 12,
      "outputs": [
        {
          "output_type": "execute_result",
          "data": {
            "text/plain": [
              "array([[247, 127,   0],\n",
              "       [195,  64,   0],\n",
              "       [ 39,   0,   0],\n",
              "       [  0,   0,   0],\n",
              "       [  0,   0,   0]], dtype=uint8)"
            ]
          },
          "metadata": {
            "tags": []
          },
          "execution_count": 12
        }
      ]
    },
    {
      "cell_type": "code",
      "metadata": {
        "id": "t5oXiU1N1Qji",
        "colab_type": "code",
        "colab": {
          "base_uri": "https://localhost:8080/",
          "height": 265
        },
        "outputId": "81898f5d-3016-469d-fce3-c96ecc5c1c68"
      },
      "source": [
        "plt.hist(train_digits[0])\n",
        "plt.show()"
      ],
      "execution_count": 13,
      "outputs": [
        {
          "output_type": "display_data",
          "data": {
            "image/png": "[encoded data removed]",
            "text/plain": [
              "<Figure size 432x288 with 1 Axes>"
            ]
          },
          "metadata": {
            "tags": [],
            "needs_background": "light"
          }
        }
      ]
    },
    {
      "cell_type": "code",
      "metadata": {
        "id": "si5cfRoE1cod",
        "colab_type": "code",
        "colab": {
          "base_uri": "https://localhost:8080/",
          "height": 265
        },
        "outputId": "761b619b-986d-4bdc-909d-704c8f64443d"
      },
      "source": [
        "plt.hist(train_digits[0].flat,bins=255)\n",
        "plt.show()"
      ],
      "execution_count": 14,
      "outputs": [
        {
          "output_type": "display_data",
          "data": {
            "image/png": "[encoded data removed]",
            "text/plain": [
              "<Figure size 432x288 with 1 Axes>"
            ]
          },
          "metadata": {
            "tags": [],
            "needs_background": "light"
          }
        }
      ]
    },
    {
      "cell_type": "code",
      "metadata": {
        "id": "o7Jf3KWZ2zEl",
        "colab_type": "code",
        "colab": {
          "base_uri": "https://localhost:8080/",
          "height": 335
        },
        "outputId": "bf61db04-31eb-4be3-c3bb-e6fb7fa64299"
      },
      "source": [
        "##pixel distribution for digit 7\n",
        "plt.hist(train_digits[15].flat)"
      ],
      "execution_count": 15,
      "outputs": [
        {
          "output_type": "execute_result",
          "data": {
            "text/plain": [
              "(array([652.,   9.,   9.,   4.,  11.,   5.,   7.,  10.,  14.,  63.]),\n",
              " array([  0. ,  25.5,  51. ,  76.5, 102. , 127.5, 153. , 178.5, 204. ,\n",
              "        229.5, 255. ]),\n",
              " <a list of 10 Patch objects>)"
            ]
          },
          "metadata": {
            "tags": []
          },
          "execution_count": 15
        },
        {
          "output_type": "display_data",
          "data": {
            "image/png": "[encoded data removed]",
            "text/plain": [
              "<Figure size 432x288 with 1 Axes>"
            ]
          },
          "metadata": {
            "tags": [],
            "needs_background": "light"
          }
        }
      ]
    },
    {
      "cell_type": "code",
      "metadata": {
        "id": "MetK82024Df7",
        "colab_type": "code",
        "colab": {
          "base_uri": "https://localhost:8080/",
          "height": 35
        },
        "outputId": "efda1185-9fd0-4f0b-85be-746042019421"
      },
      "source": [
        "train_labels[10:20]"
      ],
      "execution_count": 16,
      "outputs": [
        {
          "output_type": "execute_result",
          "data": {
            "text/plain": [
              "array([3, 5, 3, 6, 1, 7, 2, 8, 6, 9], dtype=uint8)"
            ]
          },
          "metadata": {
            "tags": []
          },
          "execution_count": 16
        }
      ]
    },
    {
      "cell_type": "code",
      "metadata": {
        "id": "WiTWG-2_5Uc0",
        "colab_type": "code",
        "colab": {
          "base_uri": "https://localhost:8080/",
          "height": 52
        },
        "outputId": "909c4a53-b1de-4264-8ba4-955e5b7b27b4"
      },
      "source": [
        "samples = np.random.randint(train_digits.shape[0],size=16)\n",
        "samples"
      ],
      "execution_count": 17,
      "outputs": [
        {
          "output_type": "execute_result",
          "data": {
            "text/plain": [
              "array([18796, 25180, 35795, 40922, 25584,  2542, 47495, 30302, 11672,\n",
              "       16001, 21611, 37640, 23155, 13483, 50617,  4078])"
            ]
          },
          "metadata": {
            "tags": []
          },
          "execution_count": 17
        }
      ]
    },
    {
      "cell_type": "code",
      "metadata": {
        "id": "8Rjlnne05jwE",
        "colab_type": "code",
        "colab": {
          "base_uri": "https://localhost:8080/",
          "height": 917
        },
        "outputId": "f27ac0d9-e541-444d-9bf6-f3f9be61f46e"
      },
      "source": [
        "plt.figure(figsize=(16,16))\n",
        "j = 1\n",
        "for i in samples:\n",
        "  plt.subplot(4,4,j)\n",
        "  plt.imshow(train_digits[i],cmap='gray')\n",
        "  plt.title(\"Digit:\" + str(train_labels[i]))\n",
        "  plt.axis('off')\n",
        "  j+=1"
      ],
      "execution_count": 18,
      "outputs": [
        {
          "output_type": "display_data",
          "data": {
            "image/png": "[encoded data removed]",
            "text/plain": [
              "<Figure size 1152x1152 with 16 Axes>"
            ]
          },
          "metadata": {
            "tags": [],
            "needs_background": "light"
          }
        }
      ]
    },
    {
      "cell_type": "code",
      "metadata": {
        "id": "dzeqJGwm499N",
        "colab_type": "code",
        "colab": {
          "base_uri": "https://localhost:8080/",
          "height": 934
        },
        "outputId": "c2ad58b3-2e9f-4630-942a-23e6f5439579"
      },
      "source": [
        "plt.figure(figsize=(16,16))\n",
        "j = 1\n",
        "for i in samples:\n",
        "  plt.subplot(4,4,j)\n",
        "  plt.hist(train_digits[i].flat)\n",
        "  plt.title(\"Digit:\" + str(train_labels[i]))\n",
        "  j+=1"
      ],
      "execution_count": 19,
      "outputs": [
        {
          "output_type": "display_data",
          "data": {
            "image/png": "[encoded data removed]",
            "text/plain": [
              "<Figure size 1152x1152 with 16 Axes>"
            ]
          },
          "metadata": {
            "tags": [],
            "needs_background": "light"
          }
        }
      ]
    },
    {
      "cell_type": "markdown",
      "metadata": {
        "id": "UifWCY-fv2LP",
        "colab_type": "text"
      },
      "source": [
        "Pre-processing"
      ]
    },
    {
      "cell_type": "markdown",
      "metadata": {
        "id": "jb_iib9awJIU",
        "colab_type": "text"
      },
      "source": [
        "scaling:"
      ]
    },
    {
      "cell_type": "code",
      "metadata": {
        "id": "1S_BgF8MwKoj",
        "colab_type": "code",
        "colab": {}
      },
      "source": [
        "train_digits_sc= train_digits/255.0\n",
        "test_digits_sc=test_digits/255.0"
      ],
      "execution_count": 20,
      "outputs": []
    },
    {
      "cell_type": "code",
      "metadata": {
        "id": "yVb1ImnlwjdR",
        "colab_type": "code",
        "colab": {
          "base_uri": "https://localhost:8080/",
          "height": 35
        },
        "outputId": "1279f1c9-57e4-4873-e30f-b1131e6b64a7"
      },
      "source": [
        "train_labels"
      ],
      "execution_count": 21,
      "outputs": [
        {
          "output_type": "execute_result",
          "data": {
            "text/plain": [
              "array([5, 0, 4, ..., 5, 6, 8], dtype=uint8)"
            ]
          },
          "metadata": {
            "tags": []
          },
          "execution_count": 21
        }
      ]
    },
    {
      "cell_type": "code",
      "metadata": {
        "id": "xuhEtjYvwlUX",
        "colab_type": "code",
        "colab": {}
      },
      "source": [
        "#Convert labels into CATEGORICAL VALUES:\n",
        "from keras.utils import to_categorical\n",
        "train_labels_cat=to_categorical(train_labels)"
      ],
      "execution_count": 22,
      "outputs": []
    },
    {
      "cell_type": "code",
      "metadata": {
        "id": "1IItMZKiwp9E",
        "colab_type": "code",
        "colab": {
          "base_uri": "https://localhost:8080/",
          "height": 35
        },
        "outputId": "180443a2-8548-4a7f-b184-0a17498117dc"
      },
      "source": [
        "train_labels_cat[0]"
      ],
      "execution_count": 23,
      "outputs": [
        {
          "output_type": "execute_result",
          "data": {
            "text/plain": [
              "array([0., 0., 0., 0., 0., 1., 0., 0., 0., 0.], dtype=float32)"
            ]
          },
          "metadata": {
            "tags": []
          },
          "execution_count": 23
        }
      ]
    },
    {
      "cell_type": "code",
      "metadata": {
        "id": "X5v2mplhwwfc",
        "colab_type": "code",
        "colab": {
          "base_uri": "https://localhost:8080/",
          "height": 35
        },
        "outputId": "3e8bc6eb-3f0d-406e-cf5a-6eb76bc70bef"
      },
      "source": [
        "test_labels_cat=to_categorical(test_labels)\n",
        "test_labels_cat[0]"
      ],
      "execution_count": 24,
      "outputs": [
        {
          "output_type": "execute_result",
          "data": {
            "text/plain": [
              "array([0., 0., 0., 0., 0., 0., 0., 1., 0., 0.], dtype=float32)"
            ]
          },
          "metadata": {
            "tags": []
          },
          "execution_count": 24
        }
      ]
    },
    {
      "cell_type": "markdown",
      "metadata": {
        "id": "58XSzI91w2te",
        "colab_type": "text"
      },
      "source": [
        "Splitting and Validating the data:\n"
      ]
    },
    {
      "cell_type": "code",
      "metadata": {
        "id": "vFbJuTWKw4yp",
        "colab_type": "code",
        "colab": {
          "base_uri": "https://localhost:8080/",
          "height": 87
        },
        "outputId": "518c3ebd-f37c-43db-dba3-e134a51b6d98"
      },
      "source": [
        "from sklearn.model_selection import train_test_split\n",
        "X_train,X_val,y_train,y_val=train_test_split(train_digits_sc,train_labels_cat,test_size=0.1,random_state=54)\n",
        "print(X_train.shape)\n",
        "print(X_val.shape)\n",
        "print(y_train.shape)\n",
        "print(y_val.shape)\n"
      ],
      "execution_count": 25,
      "outputs": [
        {
          "output_type": "stream",
          "text": [
            "(54000, 28, 28)\n",
            "(6000, 28, 28)\n",
            "(54000, 10)\n",
            "(6000, 10)\n"
          ],
          "name": "stdout"
        }
      ]
    },
    {
      "cell_type": "markdown",
      "metadata": {
        "id": "2Z0JIGfvw-9Z",
        "colab_type": "text"
      },
      "source": [
        "Building and Training the MODEL:\n",
        "- we need to take 1d array as input for DENSE layer\n",
        "- How many Hidden Layer?\n",
        "- How many Neuron in each layer?\n",
        "- what is the ACTIVATION FUNCTION for the Hiddem=n layers?\n",
        "- How many neurons in the OUTPUT layer?\n",
        "- What is the ACTIVATION function for output layer?"
      ]
    },
    {
      "cell_type": "code",
      "metadata": {
        "id": "hESjaM3QxFFX",
        "colab_type": "code",
        "colab": {}
      },
      "source": [
        "#Build the Model:\n",
        "from keras.models import Sequential\n",
        "from keras.layers import Dense,Flatten"
      ],
      "execution_count": 26,
      "outputs": []
    },
    {
      "cell_type": "code",
      "metadata": {
        "id": "bT6qj06vxNIl",
        "colab_type": "code",
        "colab": {
          "base_uri": "https://localhost:8080/",
          "height": 433
        },
        "outputId": "ba200be7-4bf0-408c-c709-7608bce3c58f"
      },
      "source": [
        "#Now, we are creating the skeleton(the structure of the model)\n",
        "#how many hidden layers, how many neurons etc.\n",
        "model= Sequential()\n",
        "#first layer:\n",
        "model.add(Flatten(input_shape=(28,28))) #input layer\n",
        "#784 pixel values as input to DENSE . 128 Neurons in the Layers.\n",
        "#hidden layers:\n",
        "model.add(Dense(128,activation='relu')) #728*28+128(bias) #128 bias for 128 nodes\n",
        "model.add(Dense(128,activation='relu'))\n",
        "model.add(Dense(64,activation='relu'))\n",
        "model.add(Dense(256,activation='relu'))\n",
        "model.add(Dense(256,activation='relu'))\n",
        "model.add(Dense(64,activation='relu'))\n",
        "#final layer:\n",
        "model.add(Dense(10,activation='softmax')) #10 because--> there are 10 classes in the output layer\n",
        "model.summary()"
      ],
      "execution_count": 27,
      "outputs": [
        {
          "output_type": "stream",
          "text": [
            "Model: \"sequential_1\"\n",
            "_________________________________________________________________\n",
            "Layer (type)                 Output Shape              Param #   \n",
            "=================================================================\n",
            "flatten_1 (Flatten)          (None, 784)               0         \n",
            "_________________________________________________________________\n",
            "dense_1 (Dense)              (None, 128)               100480    \n",
            "_________________________________________________________________\n",
            "dense_2 (Dense)              (None, 128)               16512     \n",
            "_________________________________________________________________\n",
            "dense_3 (Dense)              (None, 64)                8256      \n",
            "_________________________________________________________________\n",
            "dense_4 (Dense)              (None, 256)               16640     \n",
            "_________________________________________________________________\n",
            "dense_5 (Dense)              (None, 256)               65792     \n",
            "_________________________________________________________________\n",
            "dense_6 (Dense)              (None, 64)                16448     \n",
            "_________________________________________________________________\n",
            "dense_7 (Dense)              (None, 10)                650       \n",
            "=================================================================\n",
            "Total params: 224,778\n",
            "Trainable params: 224,778\n",
            "Non-trainable params: 0\n",
            "_________________________________________________________________\n"
          ],
          "name": "stdout"
        }
      ]
    },
    {
      "cell_type": "markdown",
      "metadata": {
        "id": "1j8HpcRMxR4o",
        "colab_type": "text"
      },
      "source": [
        "Compile the MODEL\n",
        "- what is the LOSS Func?\n",
        "- What is the OPTIMIZER?\n",
        "- What are the METRICS?"
      ]
    },
    {
      "cell_type": "code",
      "metadata": {
        "id": "KRLBh6XIxVBX",
        "colab_type": "code",
        "colab": {}
      },
      "source": [
        "model.compile(optimizer='adam',loss=tf.keras.losses.CategoricalCrossentropy(),metrics=['accuracy'])"
      ],
      "execution_count": 30,
      "outputs": []
    },
    {
      "cell_type": "markdown",
      "metadata": {
        "id": "8Xuru6kdx2KG",
        "colab_type": "text"
      },
      "source": [
        "\n",
        "Train the model:"
      ]
    },
    {
      "cell_type": "code",
      "metadata": {
        "id": "1HN3Dm5ux4UK",
        "colab_type": "code",
        "colab": {
          "base_uri": "https://localhost:8080/",
          "height": 381
        },
        "outputId": "6d22d846-34c5-4ebd-fdd3-0625858a0299"
      },
      "source": [
        "history = model.fit(x=X_train,y=y_train,epochs=10,validation_data=(X_val,y_val),batch_size=32)"
      ],
      "execution_count": 31,
      "outputs": [
        {
          "output_type": "stream",
          "text": [
            "Train on 54000 samples, validate on 6000 samples\n",
            "Epoch 1/10\n",
            "54000/54000 [==============================] - 9s 169us/step - loss: 0.2721 - accuracy: 0.9163 - val_loss: 0.1632 - val_accuracy: 0.9522\n",
            "Epoch 2/10\n",
            "54000/54000 [==============================] - 8s 157us/step - loss: 0.1250 - accuracy: 0.9637 - val_loss: 0.1145 - val_accuracy: 0.9678\n",
            "Epoch 3/10\n",
            "54000/54000 [==============================] - 9s 158us/step - loss: 0.0945 - accuracy: 0.9728 - val_loss: 0.1191 - val_accuracy: 0.9635\n",
            "Epoch 4/10\n",
            "54000/54000 [==============================] - 9s 166us/step - loss: 0.0787 - accuracy: 0.9777 - val_loss: 0.1005 - val_accuracy: 0.9723\n",
            "Epoch 5/10\n",
            "54000/54000 [==============================] - 9s 171us/step - loss: 0.0661 - accuracy: 0.9808 - val_loss: 0.0813 - val_accuracy: 0.9780\n",
            "Epoch 6/10\n",
            "54000/54000 [==============================] - 9s 162us/step - loss: 0.0538 - accuracy: 0.9839 - val_loss: 0.0997 - val_accuracy: 0.9748\n",
            "Epoch 7/10\n",
            "54000/54000 [==============================] - 9s 163us/step - loss: 0.0502 - accuracy: 0.9851 - val_loss: 0.1033 - val_accuracy: 0.9735\n",
            "Epoch 8/10\n",
            "54000/54000 [==============================] - 9s 164us/step - loss: 0.0442 - accuracy: 0.9873 - val_loss: 0.0995 - val_accuracy: 0.9737\n",
            "Epoch 9/10\n",
            "54000/54000 [==============================] - 9s 161us/step - loss: 0.0405 - accuracy: 0.9886 - val_loss: 0.1026 - val_accuracy: 0.9727\n",
            "Epoch 10/10\n",
            "54000/54000 [==============================] - 9s 162us/step - loss: 0.0355 - accuracy: 0.9899 - val_loss: 0.1057 - val_accuracy: 0.9758\n"
          ],
          "name": "stdout"
        }
      ]
    },
    {
      "cell_type": "code",
      "metadata": {
        "id": "wwWuGkvCyChB",
        "colab_type": "code",
        "colab": {
          "base_uri": "https://localhost:8080/",
          "height": 52
        },
        "outputId": "5a76fb87-8dbc-433e-ffc1-ddaceac8573f"
      },
      "source": [
        "model.evaluate(test_digits_sc,test_labels_cat)"
      ],
      "execution_count": 32,
      "outputs": [
        {
          "output_type": "stream",
          "text": [
            "10000/10000 [==============================] - 0s 33us/step\n"
          ],
          "name": "stdout"
        },
        {
          "output_type": "execute_result",
          "data": {
            "text/plain": [
              "[0.11371643202995256, 0.9753000140190125]"
            ]
          },
          "metadata": {
            "tags": []
          },
          "execution_count": 32
        }
      ]
    },
    {
      "cell_type": "code",
      "metadata": {
        "id": "BbNq62dqyFUN",
        "colab_type": "code",
        "colab": {
          "base_uri": "https://localhost:8080/",
          "height": 69
        },
        "outputId": "7595fe9f-7522-4484-da99-1a5c97d37226"
      },
      "source": [
        "print(test_digits_sc.shape)\n",
        "print(test_digits_sc[0].shape)\n",
        "print(np.expand_dims(test_digits_sc[0],axis=0).shape)"
      ],
      "execution_count": 33,
      "outputs": [
        {
          "output_type": "stream",
          "text": [
            "(10000, 28, 28)\n",
            "(28, 28)\n",
            "(1, 28, 28)\n"
          ],
          "name": "stdout"
        }
      ]
    },
    {
      "cell_type": "code",
      "metadata": {
        "id": "rsxl6DqayIYB",
        "colab_type": "code",
        "colab": {
          "base_uri": "https://localhost:8080/",
          "height": 69
        },
        "outputId": "b9714558-f8bb-4569-f9b4-52deb8aeb870"
      },
      "source": [
        "\n",
        "model.predict(np.expand_dims(test_digits_sc[0],axis=0))"
      ],
      "execution_count": 34,
      "outputs": [
        {
          "output_type": "execute_result",
          "data": {
            "text/plain": [
              "array([[6.5608815e-18, 3.3840782e-12, 1.5859700e-09, 2.3734820e-13,\n",
              "        7.0243351e-12, 2.9856720e-18, 9.3802478e-29, 1.0000000e+00,\n",
              "        1.8654453e-17, 1.7413514e-10]], dtype=float32)"
            ]
          },
          "metadata": {
            "tags": []
          },
          "execution_count": 34
        }
      ]
    },
    {
      "cell_type": "code",
      "metadata": {
        "id": "O3XOx331yL8w",
        "colab_type": "code",
        "colab": {
          "base_uri": "https://localhost:8080/",
          "height": 537
        },
        "outputId": "8d60ee56-e4b8-499e-85b5-394e1b801556"
      },
      "source": [
        "model.predict(test_digits_sc[:10])"
      ],
      "execution_count": 35,
      "outputs": [
        {
          "output_type": "execute_result",
          "data": {
            "text/plain": [
              "array([[6.5608314e-18, 3.3840719e-12, 1.5859609e-09, 2.3734731e-13,\n",
              "        7.0243217e-12, 2.9856720e-18, 9.3802478e-29, 1.0000000e+00,\n",
              "        1.8654384e-17, 1.7413482e-10],\n",
              "       [2.4045351e-17, 7.9166493e-11, 1.0000000e+00, 4.2434803e-10,\n",
              "        5.3662719e-16, 1.4383922e-14, 3.8684454e-21, 2.5559143e-11,\n",
              "        1.8221283e-17, 1.9269851e-22],\n",
              "       [5.1772776e-08, 9.9985516e-01, 2.8592231e-05, 2.1738063e-06,\n",
              "        7.7508894e-06, 1.1973078e-06, 4.4126340e-05, 3.8423572e-05,\n",
              "        2.2326363e-05, 1.3835282e-07],\n",
              "       [1.0000000e+00, 1.0172808e-20, 2.0348686e-13, 8.2555582e-13,\n",
              "        1.2535563e-19, 1.3262102e-12, 4.9351277e-11, 5.6221585e-14,\n",
              "        2.3610899e-15, 3.4536762e-11],\n",
              "       [5.8832474e-12, 7.3628770e-09, 2.1613464e-09, 6.1720170e-15,\n",
              "        9.9999917e-01, 3.0807849e-11, 3.8904069e-08, 2.5457572e-08,\n",
              "        1.8788375e-10, 8.7177142e-07],\n",
              "       [5.6319675e-12, 9.9999881e-01, 1.2988949e-07, 2.9144389e-09,\n",
              "        4.6481929e-08, 8.1702195e-10, 5.7847366e-08, 9.2719495e-07,\n",
              "        4.8217359e-08, 9.8499743e-11],\n",
              "       [2.2809676e-08, 3.9079682e-06, 1.2381282e-06, 3.1763647e-10,\n",
              "        9.9982810e-01, 5.7017314e-08, 4.7829221e-06, 3.4730192e-06,\n",
              "        6.6270269e-07, 1.5778752e-04],\n",
              "       [3.7577745e-09, 2.3871033e-08, 1.1830633e-09, 1.6226613e-06,\n",
              "        2.5219702e-05, 1.0560993e-08, 8.0014999e-13, 1.6887652e-05,\n",
              "        2.0223266e-07, 9.9995601e-01],\n",
              "       [1.5066804e-07, 3.2685445e-09, 2.6682693e-08, 6.0574948e-06,\n",
              "        1.2626420e-07, 9.9984002e-01, 1.0524391e-04, 3.1075939e-07,\n",
              "        2.0246489e-05, 2.7816206e-05],\n",
              "       [6.2166635e-14, 4.1309395e-12, 4.3272016e-14, 1.1871638e-10,\n",
              "        3.3575373e-06, 1.5973063e-13, 9.1957139e-18, 1.4430825e-08,\n",
              "        5.7995880e-10, 9.9999666e-01]], dtype=float32)"
            ]
          },
          "metadata": {
            "tags": []
          },
          "execution_count": 35
        }
      ]
    },
    {
      "cell_type": "code",
      "metadata": {
        "id": "OOUzprN1ySPu",
        "colab_type": "code",
        "colab": {
          "base_uri": "https://localhost:8080/",
          "height": 35
        },
        "outputId": "3be98871-75bc-4b87-edff-595fd762a375"
      },
      "source": [
        "\n",
        "model.predict_classes(np.expand_dims(test_digits_sc[0],axis=0))"
      ],
      "execution_count": 36,
      "outputs": [
        {
          "output_type": "execute_result",
          "data": {
            "text/plain": [
              "array([7])"
            ]
          },
          "metadata": {
            "tags": []
          },
          "execution_count": 36
        }
      ]
    },
    {
      "cell_type": "code",
      "metadata": {
        "id": "Fcjsj61wyaNZ",
        "colab_type": "code",
        "colab": {
          "base_uri": "https://localhost:8080/",
          "height": 35
        },
        "outputId": "02d68810-f126-4794-db9b-d3334c3bb73f"
      },
      "source": [
        "model.predict_classes(test_digits_sc[:10])"
      ],
      "execution_count": 37,
      "outputs": [
        {
          "output_type": "execute_result",
          "data": {
            "text/plain": [
              "array([7, 2, 1, 0, 4, 1, 4, 9, 5, 9])"
            ]
          },
          "metadata": {
            "tags": []
          },
          "execution_count": 37
        }
      ]
    },
    {
      "cell_type": "code",
      "metadata": {
        "id": "t39o0XeNydBk",
        "colab_type": "code",
        "colab": {
          "base_uri": "https://localhost:8080/",
          "height": 69
        },
        "outputId": "e533b65d-c03d-47dd-9cb2-bcd057e1ab05"
      },
      "source": [
        "model.predict_proba(np.expand_dims(test_digits_sc[0],axis=0))"
      ],
      "execution_count": 38,
      "outputs": [
        {
          "output_type": "execute_result",
          "data": {
            "text/plain": [
              "array([[6.5608815e-18, 3.3840782e-12, 1.5859700e-09, 2.3734820e-13,\n",
              "        7.0243351e-12, 2.9856720e-18, 9.3802478e-29, 1.0000000e+00,\n",
              "        1.8654453e-17, 1.7413514e-10]], dtype=float32)"
            ]
          },
          "metadata": {
            "tags": []
          },
          "execution_count": 38
        }
      ]
    },
    {
      "cell_type": "code",
      "metadata": {
        "id": "fYzHQOEcyhci",
        "colab_type": "code",
        "colab": {
          "base_uri": "https://localhost:8080/",
          "height": 711
        },
        "outputId": "c54eccac-5565-4f6a-8a84-afdbee561c13"
      },
      "source": [
        "history.history\n",
        "#this is a dictionary"
      ],
      "execution_count": 39,
      "outputs": [
        {
          "output_type": "execute_result",
          "data": {
            "text/plain": [
              "{'accuracy': [0.91627777,\n",
              "  0.9637037,\n",
              "  0.9728148,\n",
              "  0.9776852,\n",
              "  0.9807963,\n",
              "  0.9839074,\n",
              "  0.98514813,\n",
              "  0.9872778,\n",
              "  0.98862964,\n",
              "  0.9898889],\n",
              " 'loss': [0.2721151477150895,\n",
              "  0.12499273253108065,\n",
              "  0.09451409404014272,\n",
              "  0.07868001621651152,\n",
              "  0.06614514093182085,\n",
              "  0.0537558010261661,\n",
              "  0.05022665715816482,\n",
              "  0.04420621917258379,\n",
              "  0.04047635152135734,\n",
              "  0.035546071890070044],\n",
              " 'val_accuracy': [0.9521666765213013,\n",
              "  0.9678333401679993,\n",
              "  0.9635000228881836,\n",
              "  0.9723333120346069,\n",
              "  0.9779999852180481,\n",
              "  0.9748333096504211,\n",
              "  0.9735000133514404,\n",
              "  0.9736666679382324,\n",
              "  0.9726666808128357,\n",
              "  0.9758333563804626],\n",
              " 'val_loss': [0.16316339865326882,\n",
              "  0.11454738343258698,\n",
              "  0.11910788846264282,\n",
              "  0.10045186733826995,\n",
              "  0.08129317161378762,\n",
              "  0.09969470377576847,\n",
              "  0.10326805605444436,\n",
              "  0.09952906614619618,\n",
              "  0.10263850107595014,\n",
              "  0.10573144296301568]}"
            ]
          },
          "metadata": {
            "tags": []
          },
          "execution_count": 39
        }
      ]
    },
    {
      "cell_type": "code",
      "metadata": {
        "id": "FbWTAcAVyk5l",
        "colab_type": "code",
        "colab": {
          "base_uri": "https://localhost:8080/",
          "height": 35
        },
        "outputId": "674cc780-57c2-4293-c668-d964e20418fc"
      },
      "source": [
        "history.history.keys()"
      ],
      "execution_count": 40,
      "outputs": [
        {
          "output_type": "execute_result",
          "data": {
            "text/plain": [
              "dict_keys(['val_loss', 'val_accuracy', 'loss', 'accuracy'])"
            ]
          },
          "metadata": {
            "tags": []
          },
          "execution_count": 40
        }
      ]
    },
    {
      "cell_type": "code",
      "metadata": {
        "id": "_3VTYv_fynxa",
        "colab_type": "code",
        "colab": {
          "base_uri": "https://localhost:8080/",
          "height": 283
        },
        "outputId": "dd165476-de3d-4007-87c0-bd0167842803"
      },
      "source": [
        "plt.plot(range(1,11),history.history['accuracy'])"
      ],
      "execution_count": 41,
      "outputs": [
        {
          "output_type": "execute_result",
          "data": {
            "text/plain": [
              "[<matplotlib.lines.Line2D at 0x7f6a98741c18>]"
            ]
          },
          "metadata": {
            "tags": []
          },
          "execution_count": 41
        },
        {
          "output_type": "display_data",
          "data": {
            "image/png": "[encoded data removed]",
            "text/plain": [
              "<Figure size 432x288 with 1 Axes>"
            ]
          },
          "metadata": {
            "tags": [],
            "needs_background": "light"
          }
        }
      ]
    },
    {
      "cell_type": "code",
      "metadata": {
        "id": "ru6jAhTPysxn",
        "colab_type": "code",
        "colab": {
          "base_uri": "https://localhost:8080/",
          "height": 283
        },
        "outputId": "d1719c21-16cf-4803-9697-672d3fdee09d"
      },
      "source": [
        "plt.plot(range(1,11),history.history['val_accuracy'])"
      ],
      "execution_count": 43,
      "outputs": [
        {
          "output_type": "execute_result",
          "data": {
            "text/plain": [
              "[<matplotlib.lines.Line2D at 0x7f6a982b3d68>]"
            ]
          },
          "metadata": {
            "tags": []
          },
          "execution_count": 43
        },
        {
          "output_type": "display_data",
          "data": {
            "image/png": "[encoded data removed]",
            "text/plain": [
              "<Figure size 432x288 with 1 Axes>"
            ]
          },
          "metadata": {
            "tags": [],
            "needs_background": "light"
          }
        }
      ]
    },
    {
      "cell_type": "code",
      "metadata": {
        "id": "JwHTNDGayyOP",
        "colab_type": "code",
        "colab": {
          "base_uri": "https://localhost:8080/",
          "height": 283
        },
        "outputId": "11f0f928-e185-4e34-9bc2-4e6390e40469"
      },
      "source": [
        "plt.plot(range(1,11),history.history['accuracy'])\n",
        "plt.plot(range(1,11),history.history['val_accuracy'])"
      ],
      "execution_count": 44,
      "outputs": [
        {
          "output_type": "execute_result",
          "data": {
            "text/plain": [
              "[<matplotlib.lines.Line2D at 0x7f6a98105710>]"
            ]
          },
          "metadata": {
            "tags": []
          },
          "execution_count": 44
        },
        {
          "output_type": "display_data",
          "data": {
            "image/png": "[encoded data removed]",
            "text/plain": [
              "<Figure size 432x288 with 1 Axes>"
            ]
          },
          "metadata": {
            "tags": [],
            "needs_background": "light"
          }
        }
      ]
    }
  ]
}