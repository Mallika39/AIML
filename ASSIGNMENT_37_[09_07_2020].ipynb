{
  "nbformat": 4,
  "nbformat_minor": 0,
  "metadata": {
    "colab": {
      "name": "ASSIGNMENT-37 [09-07-2020].ipynb",
      "provenance": [],
      "collapsed_sections": [],
      "include_colab_link": true
    },
    "kernelspec": {
      "display_name": "Python 3",
      "language": "python",
      "name": "python3"
    },
    "language_info": {
      "codemirror_mode": {
        "name": "ipython",
        "version": 3
      },
      "file_extension": ".py",
      "mimetype": "text/x-python",
      "name": "python",
      "nbconvert_exporter": "python",
      "pygments_lexer": "ipython3",
      "version": "3.7.6"
    }
  },
  "cells": [
    {
      "cell_type": "markdown",
      "metadata": {
        "id": "view-in-github",
        "colab_type": "text"
      },
      "source": [
        "<a href=\"https://colab.research.google.com/github/Mallika39/AIML/blob/master/ASSIGNMENT_37_%5B09_07_2020%5D.ipynb\" target=\"_parent\"><img src=\"https://colab.research.google.com/assets/colab-badge.svg\" alt=\"Open In Colab\"/></a>"
      ]
    },
    {
      "cell_type": "code",
      "metadata": {
        "colab_type": "code",
        "id": "uX_yTmw2FV9U",
        "colab": {}
      },
      "source": [
        "import tensorflow as tf\n",
        "import tensorflow.keras as keras\n",
        "import numpy as np\n",
        "import matplotlib.pyplot as plt\n",
        "%matplotlib inline"
      ],
      "execution_count": 1,
      "outputs": []
    },
    {
      "cell_type": "code",
      "metadata": {
        "colab_type": "code",
        "id": "sVRllwXyFeTC",
        "colab": {
          "base_uri": "https://localhost:8080/",
          "height": 35
        },
        "outputId": "561dd1d2-b10e-4cc1-8e36-11e1de524c96"
      },
      "source": [
        "from keras.datasets.mnist import load_data"
      ],
      "execution_count": 2,
      "outputs": [
        {
          "output_type": "stream",
          "text": [
            "Using TensorFlow backend.\n"
          ],
          "name": "stderr"
        }
      ]
    },
    {
      "cell_type": "code",
      "metadata": {
        "colab_type": "code",
        "id": "q-IO4IHGFiGu",
        "colab": {
          "base_uri": "https://localhost:8080/",
          "height": 87
        },
        "outputId": "f527495c-2ed4-478f-8818-5760a0ec76a4"
      },
      "source": [
        "(train_digits,train_labels),(test_digits,test_labels)=load_data()\n",
        "print(train_digits.shape)\n",
        "print(test_digits.shape)"
      ],
      "execution_count": 3,
      "outputs": [
        {
          "output_type": "stream",
          "text": [
            "Downloading data from https://s3.amazonaws.com/img-datasets/mnist.npz\n",
            "11493376/11490434 [==============================] - 0s 0us/step\n",
            "(60000, 28, 28)\n",
            "(10000, 28, 28)\n"
          ],
          "name": "stdout"
        }
      ]
    },
    {
      "cell_type": "code",
      "metadata": {
        "colab_type": "code",
        "id": "6MxmXm7DFlru",
        "colab": {
          "base_uri": "https://localhost:8080/",
          "height": 225
        },
        "outputId": "e36047fa-8aaf-4405-b3ab-50a391632906"
      },
      "source": [
        "import pandas as pd\n",
        "pd.Series(train_labels).value_counts"
      ],
      "execution_count": 4,
      "outputs": [
        {
          "output_type": "execute_result",
          "data": {
            "text/plain": [
              "<bound method IndexOpsMixin.value_counts of 0        5\n",
              "1        0\n",
              "2        4\n",
              "3        1\n",
              "4        9\n",
              "        ..\n",
              "59995    8\n",
              "59996    3\n",
              "59997    5\n",
              "59998    6\n",
              "59999    8\n",
              "Length: 60000, dtype: uint8>"
            ]
          },
          "metadata": {
            "tags": []
          },
          "execution_count": 4
        }
      ]
    },
    {
      "cell_type": "code",
      "metadata": {
        "colab_type": "code",
        "id": "nR445WoSFqZa",
        "colab": {
          "base_uri": "https://localhost:8080/",
          "height": 225
        },
        "outputId": "8ac36638-509e-49e8-9b49-a17c8c6d05bb"
      },
      "source": [
        "pd.Series(test_labels).value_counts"
      ],
      "execution_count": 5,
      "outputs": [
        {
          "output_type": "execute_result",
          "data": {
            "text/plain": [
              "<bound method IndexOpsMixin.value_counts of 0       7\n",
              "1       2\n",
              "2       1\n",
              "3       0\n",
              "4       4\n",
              "       ..\n",
              "9995    2\n",
              "9996    3\n",
              "9997    4\n",
              "9998    5\n",
              "9999    6\n",
              "Length: 10000, dtype: uint8>"
            ]
          },
          "metadata": {
            "tags": []
          },
          "execution_count": 5
        }
      ]
    },
    {
      "cell_type": "code",
      "metadata": {
        "colab_type": "code",
        "id": "cpAtNO7vGjmt",
        "colab": {
          "base_uri": "https://localhost:8080/",
          "height": 283
        },
        "outputId": "82686308-4f35-455f-f37f-9bcdd6ff9a17"
      },
      "source": [
        "plt.imshow(train_digits[0])"
      ],
      "execution_count": 6,
      "outputs": [
        {
          "output_type": "execute_result",
          "data": {
            "text/plain": [
              "<matplotlib.image.AxesImage at 0x7ff25c275198>"
            ]
          },
          "metadata": {
            "tags": []
          },
          "execution_count": 6
        },
        {
          "output_type": "display_data",
          "data": {
            "image/png": "[encoded data removed]",
            "text/plain": [
              "<Figure size 432x288 with 1 Axes>"
            ]
          },
          "metadata": {
            "tags": [],
            "needs_background": "light"
          }
        }
      ]
    },
    {
      "cell_type": "code",
      "metadata": {
        "colab_type": "code",
        "id": "S0rAqfS4GnH8",
        "colab": {
          "base_uri": "https://localhost:8080/",
          "height": 299
        },
        "outputId": "39ab1fb4-14e6-4bea-e216-28d133d84e53"
      },
      "source": [
        "plt.title(\"Digit:\"+str(train_labels[0]))\n",
        "plt.imshow(train_digits[0],cmap=\"gray\")"
      ],
      "execution_count": 7,
      "outputs": [
        {
          "output_type": "execute_result",
          "data": {
            "text/plain": [
              "<matplotlib.image.AxesImage at 0x7ff25bdab2b0>"
            ]
          },
          "metadata": {
            "tags": []
          },
          "execution_count": 7
        },
        {
          "output_type": "display_data",
          "data": {
            "image/png": "[encoded data removed]",
            "text/plain": [
              "<Figure size 432x288 with 1 Axes>"
            ]
          },
          "metadata": {
            "tags": [],
            "needs_background": "light"
          }
        }
      ]
    },
    {
      "cell_type": "code",
      "metadata": {
        "colab_type": "code",
        "id": "XszRGi1RGqqn",
        "colab": {
          "base_uri": "https://localhost:8080/",
          "height": 265
        },
        "outputId": "8c7359aa-79ed-4e60-9aa4-336fd9234142"
      },
      "source": [
        "plt.hist(train_digits[0])\n",
        "plt.show()"
      ],
      "execution_count": 8,
      "outputs": [
        {
          "output_type": "display_data",
          "data": {
            "image/png": "[encoded data removed]",
            "text/plain": [
              "<Figure size 432x288 with 1 Axes>"
            ]
          },
          "metadata": {
            "tags": [],
            "needs_background": "light"
          }
        }
      ]
    },
    {
      "cell_type": "code",
      "metadata": {
        "colab_type": "code",
        "id": "uGIFHbm_GtjS",
        "colab": {
          "base_uri": "https://localhost:8080/",
          "height": 52
        },
        "outputId": "d2fa2d56-e924-4c82-ae4a-709482f95f3a"
      },
      "source": [
        "samp=np.random.randint(train_digits.shape[0],size=16)\n",
        "samp"
      ],
      "execution_count": 9,
      "outputs": [
        {
          "output_type": "execute_result",
          "data": {
            "text/plain": [
              "array([47496, 49820, 33422, 59432,   541, 11984, 55540, 23579, 29441,\n",
              "       37581, 32793, 25393,  3055, 57388,  8558,  3720])"
            ]
          },
          "metadata": {
            "tags": []
          },
          "execution_count": 9
        }
      ]
    },
    {
      "cell_type": "code",
      "metadata": {
        "colab_type": "code",
        "id": "vhECXaU1GwfB",
        "colab": {
          "base_uri": "https://localhost:8080/",
          "height": 917
        },
        "outputId": "1de392e0-334c-432e-e499-af7885d9cbb3"
      },
      "source": [
        "plt.figure(figsize=(16,16))\n",
        "j=1\n",
        "for i in samp:\n",
        "  plt.subplot(4,4,j)\n",
        "  plt.imshow(train_digits[i])\n",
        "  plt.title(\"Digit:\"+str(train_labels[i]))\n",
        "  plt.axis(\"off\")\n",
        "  j=j+1"
      ],
      "execution_count": 10,
      "outputs": [
        {
          "output_type": "display_data",
          "data": {
            "image/png": "[encoded data removed]",
            "text/plain": [
              "<Figure size 1152x1152 with 16 Axes>"
            ]
          },
          "metadata": {
            "tags": [],
            "needs_background": "light"
          }
        }
      ]
    },
    {
      "cell_type": "code",
      "metadata": {
        "colab_type": "code",
        "id": "CeS8uGOyGzyz",
        "colab": {}
      },
      "source": [
        "train_digits_sc=train_digits/255.0\n",
        "test_digits_sc=test_digits/255.0"
      ],
      "execution_count": 11,
      "outputs": []
    },
    {
      "cell_type": "code",
      "metadata": {
        "colab_type": "code",
        "id": "LwUpm-xEG7u3",
        "colab": {}
      },
      "source": [
        "from keras.utils import to_categorical"
      ],
      "execution_count": 12,
      "outputs": []
    },
    {
      "cell_type": "code",
      "metadata": {
        "colab_type": "code",
        "id": "yh10UxdnG-UK",
        "colab": {}
      },
      "source": [
        "train_labels_cat=to_categorical(train_labels)"
      ],
      "execution_count": 13,
      "outputs": []
    },
    {
      "cell_type": "code",
      "metadata": {
        "colab_type": "code",
        "id": "AqlD3bDSHAos",
        "colab": {}
      },
      "source": [
        "test_labels_cat=to_categorical(test_labels)"
      ],
      "execution_count": 14,
      "outputs": []
    },
    {
      "cell_type": "code",
      "metadata": {
        "colab_type": "code",
        "id": "ZmPeSz9QHDIO",
        "colab": {
          "base_uri": "https://localhost:8080/",
          "height": 87
        },
        "outputId": "06333b36-e070-45a0-d502-f5ea7939ff62"
      },
      "source": [
        "from sklearn.model_selection import train_test_split\n",
        "x_train,x_val,y_train,y_val=train_test_split(train_digits_sc,train_labels_cat,test_size=0.1,random_state=32)\n",
        "print(x_train.shape)\n",
        "print(x_val.shape)\n",
        "print(y_train.shape)\n",
        "print(y_val.shape)"
      ],
      "execution_count": 15,
      "outputs": [
        {
          "output_type": "stream",
          "text": [
            "(54000, 28, 28)\n",
            "(6000, 28, 28)\n",
            "(54000, 10)\n",
            "(6000, 10)\n"
          ],
          "name": "stdout"
        }
      ]
    },
    {
      "cell_type": "code",
      "metadata": {
        "colab_type": "code",
        "id": "dGsCN8mMHF0X",
        "colab": {
          "base_uri": "https://localhost:8080/",
          "height": 364
        },
        "outputId": "faf92df6-18ca-469b-b988-25126c4789f6"
      },
      "source": [
        "from keras.models import Sequential\n",
        "from keras.layers import Dense,Flatten\n",
        "\n",
        "model = Sequential()\n",
        "# first layer we need to mention the input shape\n",
        "\n",
        "model.add(Flatten(input_shape=(28,28)))\n",
        "## 784 pixel values as input to this Dense. 128 Neurons in the layers\n",
        "model.add(Dense(128,activation='relu'))# 784 * 128+128\n",
        "model.add(Dense(128,activation='relu'))# \n",
        "model.add(Dense(64,activation='relu'))\n",
        "model.add(Dense(256,activation='relu'))\n",
        "#Final layer\n",
        "model.add(Dense(10,activation='softmax'))\n",
        "model.summary()"
      ],
      "execution_count": 16,
      "outputs": [
        {
          "output_type": "stream",
          "text": [
            "Model: \"sequential_1\"\n",
            "_________________________________________________________________\n",
            "Layer (type)                 Output Shape              Param #   \n",
            "=================================================================\n",
            "flatten_1 (Flatten)          (None, 784)               0         \n",
            "_________________________________________________________________\n",
            "dense_1 (Dense)              (None, 128)               100480    \n",
            "_________________________________________________________________\n",
            "dense_2 (Dense)              (None, 128)               16512     \n",
            "_________________________________________________________________\n",
            "dense_3 (Dense)              (None, 64)                8256      \n",
            "_________________________________________________________________\n",
            "dense_4 (Dense)              (None, 256)               16640     \n",
            "_________________________________________________________________\n",
            "dense_5 (Dense)              (None, 10)                2570      \n",
            "=================================================================\n",
            "Total params: 144,458\n",
            "Trainable params: 144,458\n",
            "Non-trainable params: 0\n",
            "_________________________________________________________________\n"
          ],
          "name": "stdout"
        }
      ]
    },
    {
      "cell_type": "code",
      "metadata": {
        "colab_type": "code",
        "id": "dPVqE0NaHJKn",
        "colab": {}
      },
      "source": [
        "model.compile(optimizer='adam',loss=tf.keras.losses.CategoricalCrossentropy(),metrics=['accuracy'])"
      ],
      "execution_count": 17,
      "outputs": []
    },
    {
      "cell_type": "code",
      "metadata": {
        "colab_type": "code",
        "id": "AChWvUSDHNWG",
        "colab": {
          "base_uri": "https://localhost:8080/",
          "height": 208
        },
        "outputId": "79deccad-2ea5-43b3-f91f-72ce47db9911"
      },
      "source": [
        "history=model.fit(x=x_train,y=y_train,epochs=5,validation_data=(x_val,y_val),batch_size=32)"
      ],
      "execution_count": 18,
      "outputs": [
        {
          "output_type": "stream",
          "text": [
            "Train on 54000 samples, validate on 6000 samples\n",
            "Epoch 1/5\n",
            "54000/54000 [==============================] - 6s 119us/step - loss: 0.2500 - accuracy: 0.9236 - val_loss: 0.1409 - val_accuracy: 0.9580\n",
            "Epoch 2/5\n",
            "54000/54000 [==============================] - 6s 112us/step - loss: 0.1104 - accuracy: 0.9665 - val_loss: 0.1122 - val_accuracy: 0.9697\n",
            "Epoch 3/5\n",
            "54000/54000 [==============================] - 6s 112us/step - loss: 0.0819 - accuracy: 0.9753 - val_loss: 0.1103 - val_accuracy: 0.9698\n",
            "Epoch 4/5\n",
            "54000/54000 [==============================] - 6s 110us/step - loss: 0.0643 - accuracy: 0.9800 - val_loss: 0.1296 - val_accuracy: 0.9673\n",
            "Epoch 5/5\n",
            "54000/54000 [==============================] - 6s 112us/step - loss: 0.0522 - accuracy: 0.9833 - val_loss: 0.1246 - val_accuracy: 0.9700\n"
          ],
          "name": "stdout"
        }
      ]
    },
    {
      "cell_type": "code",
      "metadata": {
        "colab_type": "code",
        "id": "3Ig8LedmHQQ1",
        "colab": {
          "base_uri": "https://localhost:8080/",
          "height": 52
        },
        "outputId": "1cdf3449-f3da-4593-a2b5-20befc337d01"
      },
      "source": [
        "model.evaluate(test_digits_sc,test_labels_cat)"
      ],
      "execution_count": 19,
      "outputs": [
        {
          "output_type": "stream",
          "text": [
            "10000/10000 [==============================] - 0s 27us/step\n"
          ],
          "name": "stdout"
        },
        {
          "output_type": "execute_result",
          "data": {
            "text/plain": [
              "[0.09274415211402812, 0.9739000201225281]"
            ]
          },
          "metadata": {
            "tags": []
          },
          "execution_count": 19
        }
      ]
    },
    {
      "cell_type": "code",
      "metadata": {
        "colab_type": "code",
        "id": "upzAJ9yKHcwA",
        "colab": {
          "base_uri": "https://localhost:8080/",
          "height": 69
        },
        "outputId": "cf6eed91-9dbc-4e37-8e3d-cb53ae5a9da2"
      },
      "source": [
        "print(test_digits_sc.shape)\n",
        "print(test_digits_sc[0].shape)\n",
        "print(np.expand_dims(test_digits_sc[0],axis=0).shape)"
      ],
      "execution_count": 20,
      "outputs": [
        {
          "output_type": "stream",
          "text": [
            "(10000, 28, 28)\n",
            "(28, 28)\n",
            "(1, 28, 28)\n"
          ],
          "name": "stdout"
        }
      ]
    },
    {
      "cell_type": "code",
      "metadata": {
        "colab_type": "code",
        "id": "rwV9he6yIpH5",
        "colab": {
          "base_uri": "https://localhost:8080/",
          "height": 69
        },
        "outputId": "64fdb7c2-ca89-4c49-924f-30afe652aba3"
      },
      "source": [
        "model.predict(np.expand_dims(test_digits_sc[0],axis=0))"
      ],
      "execution_count": 21,
      "outputs": [
        {
          "output_type": "execute_result",
          "data": {
            "text/plain": [
              "array([[3.6570598e-06, 1.3360541e-04, 5.1531143e-04, 2.8717984e-03,\n",
              "        1.0740109e-05, 7.9794081e-06, 7.3572522e-08, 9.9367923e-01,\n",
              "        1.0908071e-03, 1.6868807e-03]], dtype=float32)"
            ]
          },
          "metadata": {
            "tags": []
          },
          "execution_count": 21
        }
      ]
    },
    {
      "cell_type": "code",
      "metadata": {
        "colab_type": "code",
        "id": "nMUpTjYkIsef",
        "colab": {
          "base_uri": "https://localhost:8080/",
          "height": 537
        },
        "outputId": "487b391e-dc7a-44b2-a5f0-83634612faa9"
      },
      "source": [
        "model.predict(test_digits_sc[:10])"
      ],
      "execution_count": 22,
      "outputs": [
        {
          "output_type": "execute_result",
          "data": {
            "text/plain": [
              "array([[3.6570527e-06, 1.3360541e-04, 5.1531120e-04, 2.8717956e-03,\n",
              "        1.0740099e-05, 7.9794081e-06, 7.3572522e-08, 9.9367923e-01,\n",
              "        1.0908067e-03, 1.6868791e-03],\n",
              "       [3.0906484e-13, 1.7069030e-09, 1.0000000e+00, 2.7446259e-09,\n",
              "        1.1888168e-11, 1.5186475e-11, 1.4397079e-09, 2.9620296e-11,\n",
              "        2.2066353e-09, 7.4379251e-15],\n",
              "       [8.7914437e-08, 9.9706382e-01, 1.4742225e-03, 1.1904822e-05,\n",
              "        1.3185501e-04, 2.1561812e-06, 1.3016265e-05, 1.2386939e-03,\n",
              "        6.0107846e-05, 4.1146518e-06],\n",
              "       [9.9467260e-01, 3.5317544e-06, 2.0400948e-04, 3.5765719e-05,\n",
              "        5.7983441e-05, 1.5006313e-05, 5.2598357e-04, 1.0918857e-05,\n",
              "        1.7952672e-03, 2.6790709e-03],\n",
              "       [2.3399204e-07, 1.9763763e-07, 2.0960735e-05, 2.0236268e-07,\n",
              "        9.9989116e-01, 2.8380339e-06, 1.9603716e-05, 7.6772330e-06,\n",
              "        8.6540450e-07, 5.6207358e-05],\n",
              "       [2.1163066e-10, 9.9992156e-01, 3.4117452e-06, 8.6281226e-08,\n",
              "        2.3213443e-06, 7.9923623e-09, 3.5413862e-08, 7.2131341e-05,\n",
              "        3.2058526e-07, 1.3086991e-07],\n",
              "       [3.1356009e-07, 1.3986153e-06, 1.6047128e-05, 1.5715849e-06,\n",
              "        9.9828315e-01, 9.2206810e-06, 7.5672342e-06, 9.9125946e-06,\n",
              "        8.6438495e-06, 1.6622239e-03],\n",
              "       [3.9958024e-05, 7.9744977e-06, 8.2736311e-04, 7.8425989e-02,\n",
              "        6.7925401e-04, 5.2602836e-03, 5.5720022e-07, 2.5316633e-03,\n",
              "        1.2286957e-03, 9.1099828e-01],\n",
              "       [3.5190516e-07, 4.1309838e-07, 4.8983622e-07, 1.5387166e-05,\n",
              "        2.1513706e-07, 9.3856156e-01, 6.0167465e-02, 8.5076218e-10,\n",
              "        1.2506041e-03, 3.3834208e-06],\n",
              "       [3.2280303e-09, 6.4760677e-09, 7.0561961e-09, 2.3281084e-06,\n",
              "        4.6665795e-05, 6.4926937e-08, 1.5256818e-11, 9.0047179e-06,\n",
              "        1.2973146e-06, 9.9994063e-01]], dtype=float32)"
            ]
          },
          "metadata": {
            "tags": []
          },
          "execution_count": 22
        }
      ]
    },
    {
      "cell_type": "code",
      "metadata": {
        "colab_type": "code",
        "id": "UpLMy3loIwKZ",
        "colab": {
          "base_uri": "https://localhost:8080/",
          "height": 35
        },
        "outputId": "fb22b03e-12bc-4792-d572-7d8aa050660a"
      },
      "source": [
        "model.predict_classes(np.expand_dims(test_digits_sc[0],axis=0))"
      ],
      "execution_count": 23,
      "outputs": [
        {
          "output_type": "execute_result",
          "data": {
            "text/plain": [
              "array([7])"
            ]
          },
          "metadata": {
            "tags": []
          },
          "execution_count": 23
        }
      ]
    },
    {
      "cell_type": "code",
      "metadata": {
        "colab_type": "code",
        "id": "ix2U29g_Izhp",
        "colab": {
          "base_uri": "https://localhost:8080/",
          "height": 69
        },
        "outputId": "e268fee4-8755-44c6-f483-2e73a071f14e"
      },
      "source": [
        "model.predict_proba(np.expand_dims(test_digits_sc[0],axis=0))"
      ],
      "execution_count": 24,
      "outputs": [
        {
          "output_type": "execute_result",
          "data": {
            "text/plain": [
              "array([[3.6570598e-06, 1.3360541e-04, 5.1531143e-04, 2.8717984e-03,\n",
              "        1.0740109e-05, 7.9794081e-06, 7.3572522e-08, 9.9367923e-01,\n",
              "        1.0908071e-03, 1.6868807e-03]], dtype=float32)"
            ]
          },
          "metadata": {
            "tags": []
          },
          "execution_count": 24
        }
      ]
    },
    {
      "cell_type": "code",
      "metadata": {
        "colab_type": "code",
        "id": "GSuf7gdNI3I1",
        "colab": {
          "base_uri": "https://localhost:8080/",
          "height": 295
        },
        "outputId": "5d6eeaef-520d-4611-e980-64fa75415828"
      },
      "source": [
        "history.history"
      ],
      "execution_count": 25,
      "outputs": [
        {
          "output_type": "execute_result",
          "data": {
            "text/plain": [
              "{'accuracy': [0.92355555, 0.9664815, 0.97525924, 0.97996294, 0.9832963],\n",
              " 'loss': [0.24996358239926675,\n",
              "  0.11044744387124147,\n",
              "  0.08191071473103431,\n",
              "  0.06432285341594575,\n",
              "  0.052217955704347264],\n",
              " 'val_accuracy': [0.9580000042915344,\n",
              "  0.9696666598320007,\n",
              "  0.9698333144187927,\n",
              "  0.9673333168029785,\n",
              "  0.9700000286102295],\n",
              " 'val_loss': [0.14090217902014654,\n",
              "  0.11215393734599154,\n",
              "  0.1103204602325956,\n",
              "  0.12958186537834504,\n",
              "  0.12461198434606194]}"
            ]
          },
          "metadata": {
            "tags": []
          },
          "execution_count": 25
        }
      ]
    },
    {
      "cell_type": "code",
      "metadata": {
        "colab_type": "code",
        "id": "8R0r9xzTI552",
        "colab": {
          "base_uri": "https://localhost:8080/",
          "height": 283
        },
        "outputId": "d9b8366b-43ef-4d7e-b907-a447c04beb9d"
      },
      "source": [
        "plt.plot(history.history['accuracy'])\n",
        "plt.plot(history.history['val_accuracy'])"
      ],
      "execution_count": 26,
      "outputs": [
        {
          "output_type": "execute_result",
          "data": {
            "text/plain": [
              "[<matplotlib.lines.Line2D at 0x7ff24d849f28>]"
            ]
          },
          "metadata": {
            "tags": []
          },
          "execution_count": 26
        },
        {
          "output_type": "display_data",
          "data": {
            "image/png": "[encoded data removed]",
            "text/plain": [
              "<Figure size 432x288 with 1 Axes>"
            ]
          },
          "metadata": {
            "tags": [],
            "needs_background": "light"
          }
        }
      ]
    },
    {
      "cell_type": "code",
      "metadata": {
        "colab_type": "code",
        "id": "YIvjDI9qI8fU",
        "colab": {
          "base_uri": "https://localhost:8080/",
          "height": 364
        },
        "outputId": "7b78346a-a72f-4c43-c925-668d5092a524"
      },
      "source": [
        "model1 = Sequential()\n",
        "# first layer we need to mention the input shape\n",
        "\n",
        "model1.add(Flatten(input_shape=(28,28)))\n",
        "## 784 pixel values as input to this Dense. 128 Neurons in the layers\n",
        "model1.add(Dense(128,activation='relu'))# 784 * 128+128\n",
        "model1.add(Dense(256,activation='relu'))# \n",
        "model1.add(Dense(64,activation='relu'))\n",
        "model1.add(Dense(256,activation='relu'))\n",
        "#Final layer\n",
        "model1.add(Dense(10,activation='sigmoid'))\n",
        "model1.summary()"
      ],
      "execution_count": 27,
      "outputs": [
        {
          "output_type": "stream",
          "text": [
            "Model: \"sequential_2\"\n",
            "_________________________________________________________________\n",
            "Layer (type)                 Output Shape              Param #   \n",
            "=================================================================\n",
            "flatten_2 (Flatten)          (None, 784)               0         \n",
            "_________________________________________________________________\n",
            "dense_6 (Dense)              (None, 128)               100480    \n",
            "_________________________________________________________________\n",
            "dense_7 (Dense)              (None, 256)               33024     \n",
            "_________________________________________________________________\n",
            "dense_8 (Dense)              (None, 64)                16448     \n",
            "_________________________________________________________________\n",
            "dense_9 (Dense)              (None, 256)               16640     \n",
            "_________________________________________________________________\n",
            "dense_10 (Dense)             (None, 10)                2570      \n",
            "=================================================================\n",
            "Total params: 169,162\n",
            "Trainable params: 169,162\n",
            "Non-trainable params: 0\n",
            "_________________________________________________________________\n"
          ],
          "name": "stdout"
        }
      ]
    },
    {
      "cell_type": "code",
      "metadata": {
        "colab_type": "code",
        "id": "ow0mkZ0pJAGo",
        "colab": {}
      },
      "source": [
        "model1.compile(optimizer='adam',loss=tf.keras.losses.CategoricalCrossentropy(),metrics=['accuracy'])"
      ],
      "execution_count": 28,
      "outputs": []
    },
    {
      "cell_type": "code",
      "metadata": {
        "colab_type": "code",
        "id": "RAh-jRcCJDox",
        "colab": {
          "base_uri": "https://localhost:8080/",
          "height": 208
        },
        "outputId": "3cb88ecb-c08a-4c2d-8ba3-3ab54f33c6f2"
      },
      "source": [
        "history=model1.fit(x=x_train,y=y_train,epochs=5,validation_data=(x_val,y_val),batch_size=32)"
      ],
      "execution_count": 29,
      "outputs": [
        {
          "output_type": "stream",
          "text": [
            "Train on 54000 samples, validate on 6000 samples\n",
            "Epoch 1/5\n",
            "54000/54000 [==============================] - 7s 125us/step - loss: 0.2643 - accuracy: 0.9202 - val_loss: 0.1481 - val_accuracy: 0.9577\n",
            "Epoch 2/5\n",
            "54000/54000 [==============================] - 6s 119us/step - loss: 0.1118 - accuracy: 0.9658 - val_loss: 0.1216 - val_accuracy: 0.9640\n",
            "Epoch 3/5\n",
            "54000/54000 [==============================] - 6s 119us/step - loss: 0.0828 - accuracy: 0.9745 - val_loss: 0.1265 - val_accuracy: 0.9605\n",
            "Epoch 4/5\n",
            "54000/54000 [==============================] - 6s 120us/step - loss: 0.0649 - accuracy: 0.9797 - val_loss: 0.1051 - val_accuracy: 0.9737\n",
            "Epoch 5/5\n",
            "54000/54000 [==============================] - 7s 121us/step - loss: 0.0524 - accuracy: 0.9835 - val_loss: 0.1027 - val_accuracy: 0.9758\n"
          ],
          "name": "stdout"
        }
      ]
    },
    {
      "cell_type": "code",
      "metadata": {
        "colab_type": "code",
        "id": "p8QLfl_EJPJk",
        "colab": {
          "base_uri": "https://localhost:8080/",
          "height": 52
        },
        "outputId": "faab10b2-0746-4830-cdc8-3a516f5d3508"
      },
      "source": [
        "model1.evaluate(test_digits_sc,test_labels_cat)"
      ],
      "execution_count": 30,
      "outputs": [
        {
          "output_type": "stream",
          "text": [
            "10000/10000 [==============================] - 0s 28us/step\n"
          ],
          "name": "stdout"
        },
        {
          "output_type": "execute_result",
          "data": {
            "text/plain": [
              "[0.09168098959270574, 0.9753000140190125]"
            ]
          },
          "metadata": {
            "tags": []
          },
          "execution_count": 30
        }
      ]
    },
    {
      "cell_type": "code",
      "metadata": {
        "colab_type": "code",
        "id": "hQtmTJURJZh8",
        "colab": {
          "base_uri": "https://localhost:8080/",
          "height": 69
        },
        "outputId": "a11e58d0-220d-4886-fbd0-5c7d267d5fd5"
      },
      "source": [
        "print(test_digits_sc.shape)\n",
        "print(test_digits_sc[0].shape)\n",
        "print(np.expand_dims(test_digits_sc[0],axis=0).shape)"
      ],
      "execution_count": 31,
      "outputs": [
        {
          "output_type": "stream",
          "text": [
            "(10000, 28, 28)\n",
            "(28, 28)\n",
            "(1, 28, 28)\n"
          ],
          "name": "stdout"
        }
      ]
    },
    {
      "cell_type": "code",
      "metadata": {
        "colab_type": "code",
        "id": "IvLGkyHMJdNC",
        "colab": {
          "base_uri": "https://localhost:8080/",
          "height": 69
        },
        "outputId": "7e595453-c7cf-48a9-99b1-22c75f5ad36d"
      },
      "source": [
        "model.predict(np.expand_dims(test_digits_sc[0],axis=0))"
      ],
      "execution_count": 32,
      "outputs": [
        {
          "output_type": "execute_result",
          "data": {
            "text/plain": [
              "array([[3.6570598e-06, 1.3360541e-04, 5.1531143e-04, 2.8717984e-03,\n",
              "        1.0740109e-05, 7.9794081e-06, 7.3572522e-08, 9.9367923e-01,\n",
              "        1.0908071e-03, 1.6868807e-03]], dtype=float32)"
            ]
          },
          "metadata": {
            "tags": []
          },
          "execution_count": 32
        }
      ]
    },
    {
      "cell_type": "code",
      "metadata": {
        "colab_type": "code",
        "id": "TNNYypI4Jghk",
        "colab": {
          "base_uri": "https://localhost:8080/",
          "height": 537
        },
        "outputId": "65e26bf5-ef4d-448d-8192-812c6c38392c"
      },
      "source": [
        "model.predict(test_digits_sc[:10])"
      ],
      "execution_count": 33,
      "outputs": [
        {
          "output_type": "execute_result",
          "data": {
            "text/plain": [
              "array([[3.6570527e-06, 1.3360541e-04, 5.1531120e-04, 2.8717956e-03,\n",
              "        1.0740099e-05, 7.9794081e-06, 7.3572522e-08, 9.9367923e-01,\n",
              "        1.0908067e-03, 1.6868791e-03],\n",
              "       [3.0906484e-13, 1.7069030e-09, 1.0000000e+00, 2.7446259e-09,\n",
              "        1.1888168e-11, 1.5186475e-11, 1.4397079e-09, 2.9620296e-11,\n",
              "        2.2066353e-09, 7.4379251e-15],\n",
              "       [8.7914437e-08, 9.9706382e-01, 1.4742225e-03, 1.1904822e-05,\n",
              "        1.3185501e-04, 2.1561812e-06, 1.3016265e-05, 1.2386939e-03,\n",
              "        6.0107846e-05, 4.1146518e-06],\n",
              "       [9.9467260e-01, 3.5317544e-06, 2.0400948e-04, 3.5765719e-05,\n",
              "        5.7983441e-05, 1.5006313e-05, 5.2598357e-04, 1.0918857e-05,\n",
              "        1.7952672e-03, 2.6790709e-03],\n",
              "       [2.3399204e-07, 1.9763763e-07, 2.0960735e-05, 2.0236268e-07,\n",
              "        9.9989116e-01, 2.8380339e-06, 1.9603716e-05, 7.6772330e-06,\n",
              "        8.6540450e-07, 5.6207358e-05],\n",
              "       [2.1163066e-10, 9.9992156e-01, 3.4117452e-06, 8.6281226e-08,\n",
              "        2.3213443e-06, 7.9923623e-09, 3.5413862e-08, 7.2131341e-05,\n",
              "        3.2058526e-07, 1.3086991e-07],\n",
              "       [3.1356009e-07, 1.3986153e-06, 1.6047128e-05, 1.5715849e-06,\n",
              "        9.9828315e-01, 9.2206810e-06, 7.5672342e-06, 9.9125946e-06,\n",
              "        8.6438495e-06, 1.6622239e-03],\n",
              "       [3.9958024e-05, 7.9744977e-06, 8.2736311e-04, 7.8425989e-02,\n",
              "        6.7925401e-04, 5.2602836e-03, 5.5720022e-07, 2.5316633e-03,\n",
              "        1.2286957e-03, 9.1099828e-01],\n",
              "       [3.5190516e-07, 4.1309838e-07, 4.8983622e-07, 1.5387166e-05,\n",
              "        2.1513706e-07, 9.3856156e-01, 6.0167465e-02, 8.5076218e-10,\n",
              "        1.2506041e-03, 3.3834208e-06],\n",
              "       [3.2280303e-09, 6.4760677e-09, 7.0561961e-09, 2.3281084e-06,\n",
              "        4.6665795e-05, 6.4926937e-08, 1.5256818e-11, 9.0047179e-06,\n",
              "        1.2973146e-06, 9.9994063e-01]], dtype=float32)"
            ]
          },
          "metadata": {
            "tags": []
          },
          "execution_count": 33
        }
      ]
    },
    {
      "cell_type": "code",
      "metadata": {
        "colab_type": "code",
        "id": "8sCpCpVbJji0",
        "colab": {
          "base_uri": "https://localhost:8080/",
          "height": 35
        },
        "outputId": "fd66aa99-2125-4344-e043-ee9c4d6ee993"
      },
      "source": [
        "model.predict_classes(np.expand_dims(test_digits_sc[0],axis=0))"
      ],
      "execution_count": 34,
      "outputs": [
        {
          "output_type": "execute_result",
          "data": {
            "text/plain": [
              "array([7])"
            ]
          },
          "metadata": {
            "tags": []
          },
          "execution_count": 34
        }
      ]
    },
    {
      "cell_type": "code",
      "metadata": {
        "colab_type": "code",
        "id": "tHiNVqYYJmPU",
        "colab": {
          "base_uri": "https://localhost:8080/",
          "height": 69
        },
        "outputId": "0d9375de-9a3d-40d1-8a93-82138fe6c2b9"
      },
      "source": [
        "model.predict_proba(np.expand_dims(test_digits_sc[0],axis=0))"
      ],
      "execution_count": 35,
      "outputs": [
        {
          "output_type": "execute_result",
          "data": {
            "text/plain": [
              "array([[3.6570598e-06, 1.3360541e-04, 5.1531143e-04, 2.8717984e-03,\n",
              "        1.0740109e-05, 7.9794081e-06, 7.3572522e-08, 9.9367923e-01,\n",
              "        1.0908071e-03, 1.6868807e-03]], dtype=float32)"
            ]
          },
          "metadata": {
            "tags": []
          },
          "execution_count": 35
        }
      ]
    },
    {
      "cell_type": "code",
      "metadata": {
        "colab_type": "code",
        "id": "g8NlieSlJpjI",
        "colab": {
          "base_uri": "https://localhost:8080/",
          "height": 295
        },
        "outputId": "a8f5370f-8904-4528-e94a-eaa8c7222812"
      },
      "source": [
        "history.history"
      ],
      "execution_count": 36,
      "outputs": [
        {
          "output_type": "execute_result",
          "data": {
            "text/plain": [
              "{'accuracy': [0.9202222, 0.9658148, 0.97448146, 0.9797037, 0.98348147],\n",
              " 'loss': [0.26425507302830614,\n",
              "  0.11177873877725668,\n",
              "  0.08283047653300067,\n",
              "  0.06489390404117121,\n",
              "  0.052428185338710645],\n",
              " 'val_accuracy': [0.9576666951179504,\n",
              "  0.9639999866485596,\n",
              "  0.9605000019073486,\n",
              "  0.9736666679382324,\n",
              "  0.9758333563804626],\n",
              " 'val_loss': [0.14813624794284502,\n",
              "  0.12162497505545616,\n",
              "  0.12645780684053898,\n",
              "  0.10509260348168512,\n",
              "  0.10270256844093092]}"
            ]
          },
          "metadata": {
            "tags": []
          },
          "execution_count": 36
        }
      ]
    },
    {
      "cell_type": "code",
      "metadata": {
        "colab_type": "code",
        "id": "eDbr-93mJsXi",
        "colab": {
          "base_uri": "https://localhost:8080/",
          "height": 283
        },
        "outputId": "efb9a940-f9ca-4c8e-ac65-dd91bfd73762"
      },
      "source": [
        "plt.plot(history.history['accuracy'])\n",
        "plt.plot(history.history['val_accuracy'])"
      ],
      "execution_count": 37,
      "outputs": [
        {
          "output_type": "execute_result",
          "data": {
            "text/plain": [
              "[<matplotlib.lines.Line2D at 0x7ff24c98d4a8>]"
            ]
          },
          "metadata": {
            "tags": []
          },
          "execution_count": 37
        },
        {
          "output_type": "display_data",
          "data": {
            "image/png": "[encoded data removed]",
            "text/plain": [
              "<Figure size 432x288 with 1 Axes>"
            ]
          },
          "metadata": {
            "tags": [],
            "needs_background": "light"
          }
        }
      ]
    }
  ]
}