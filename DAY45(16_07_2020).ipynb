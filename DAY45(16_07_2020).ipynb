{
  "nbformat": 4,
  "nbformat_minor": 0,
  "metadata": {
    "colab": {
      "name": "DAY45(16-07-2020)",
      "provenance": [],
      "collapsed_sections": []
    },
    "kernelspec": {
      "name": "python3",
      "display_name": "Python 3"
    }
  },
  "cells": [
    {
      "cell_type": "code",
      "metadata": {
        "id": "fegVwqdw798U",
        "colab_type": "code",
        "colab": {
          "base_uri": "https://localhost:8080/",
          "height": 52
        },
        "outputId": "264f1b6e-72f0-4455-f106-98860989c85e"
      },
      "source": [
        "from google.colab import drive\n",
        "drive.mount('/gdrive')\n",
        "%cd /gdrive"
      ],
      "execution_count": null,
      "outputs": [
        {
          "output_type": "stream",
          "text": [
            "Drive already mounted at /gdrive; to attempt to forcibly remount, call drive.mount(\"/gdrive\", force_remount=True).\n",
            "/gdrive\n"
          ],
          "name": "stdout"
        }
      ]
    },
    {
      "cell_type": "code",
      "metadata": {
        "id": "21r5HBzk8bU3",
        "colab_type": "code",
        "colab": {
          "base_uri": "https://localhost:8080/",
          "height": 87
        },
        "outputId": "b4909968-c18a-4370-9ffd-385f814c4ea5"
      },
      "source": [
        "!ls 'My Drive/summer internship'"
      ],
      "execution_count": null,
      "outputs": [
        {
          "output_type": "stream",
          "text": [
            " 09-07-2020\t\t       'ASSIGNMENT-37 [09-07-2020].ipynb'\n",
            "'(10-07-2020) & (11-07-2020)'  'DAY45-stock price prediction(16-07-2020).ipynb'\n",
            " 20-06-2020.ipynb\t       'Google stock price prediction-Copy1.ipynb'\n",
            " all_stocks_5yr.csv\t        titanic.csv\n"
          ],
          "name": "stdout"
        }
      ]
    },
    {
      "cell_type": "code",
      "metadata": {
        "id": "4wpZbYOl8rsK",
        "colab_type": "code",
        "colab": {
          "base_uri": "https://localhost:8080/",
          "height": 35
        },
        "outputId": "aa6bfe4f-a887-4232-d8fb-b4fd9bc24cd3"
      },
      "source": [
        "# all_stocks_5yr.csv\n",
        "import pandas as pd\n",
        "data = pd.read_csv('My Drive/summer internship/all_stocks_5yr.csv')\n",
        "data.shape"
      ],
      "execution_count": null,
      "outputs": [
        {
          "output_type": "execute_result",
          "data": {
            "text/plain": [
              "(619040, 7)"
            ]
          },
          "metadata": {
            "tags": []
          },
          "execution_count": 13
        }
      ]
    },
    {
      "cell_type": "code",
      "metadata": {
        "id": "UCMaZNMV9GZM",
        "colab_type": "code",
        "colab": {
          "base_uri": "https://localhost:8080/",
          "height": 202
        },
        "outputId": "78461e60-4cbd-402d-9069-e39abfd63bb1"
      },
      "source": [
        "#top five rows\n",
        "data.head()"
      ],
      "execution_count": null,
      "outputs": [
        {
          "output_type": "execute_result",
          "data": {
            "text/html": [
              "<div>\n",
              "<style scoped>\n",
              "    .dataframe tbody tr th:only-of-type {\n",
              "        vertical-align: middle;\n",
              "    }\n",
              "\n",
              "    .dataframe tbody tr th {\n",
              "        vertical-align: top;\n",
              "    }\n",
              "\n",
              "    .dataframe thead th {\n",
              "        text-align: right;\n",
              "    }\n",
              "</style>\n",
              "<table border=\"1\" class=\"dataframe\">\n",
              "  <thead>\n",
              "    <tr style=\"text-align: right;\">\n",
              "      <th></th>\n",
              "      <th>date</th>\n",
              "      <th>open</th>\n",
              "      <th>high</th>\n",
              "      <th>low</th>\n",
              "      <th>close</th>\n",
              "      <th>volume</th>\n",
              "      <th>Name</th>\n",
              "    </tr>\n",
              "  </thead>\n",
              "  <tbody>\n",
              "    <tr>\n",
              "      <th>0</th>\n",
              "      <td>2013-02-08</td>\n",
              "      <td>15.07</td>\n",
              "      <td>15.12</td>\n",
              "      <td>14.63</td>\n",
              "      <td>14.75</td>\n",
              "      <td>8407500</td>\n",
              "      <td>AAL</td>\n",
              "    </tr>\n",
              "    <tr>\n",
              "      <th>1</th>\n",
              "      <td>2013-02-11</td>\n",
              "      <td>14.89</td>\n",
              "      <td>15.01</td>\n",
              "      <td>14.26</td>\n",
              "      <td>14.46</td>\n",
              "      <td>8882000</td>\n",
              "      <td>AAL</td>\n",
              "    </tr>\n",
              "    <tr>\n",
              "      <th>2</th>\n",
              "      <td>2013-02-12</td>\n",
              "      <td>14.45</td>\n",
              "      <td>14.51</td>\n",
              "      <td>14.10</td>\n",
              "      <td>14.27</td>\n",
              "      <td>8126000</td>\n",
              "      <td>AAL</td>\n",
              "    </tr>\n",
              "    <tr>\n",
              "      <th>3</th>\n",
              "      <td>2013-02-13</td>\n",
              "      <td>14.30</td>\n",
              "      <td>14.94</td>\n",
              "      <td>14.25</td>\n",
              "      <td>14.66</td>\n",
              "      <td>10259500</td>\n",
              "      <td>AAL</td>\n",
              "    </tr>\n",
              "    <tr>\n",
              "      <th>4</th>\n",
              "      <td>2013-02-14</td>\n",
              "      <td>14.94</td>\n",
              "      <td>14.96</td>\n",
              "      <td>13.16</td>\n",
              "      <td>13.99</td>\n",
              "      <td>31879900</td>\n",
              "      <td>AAL</td>\n",
              "    </tr>\n",
              "  </tbody>\n",
              "</table>\n",
              "</div>"
            ],
            "text/plain": [
              "         date   open   high    low  close    volume Name\n",
              "0  2013-02-08  15.07  15.12  14.63  14.75   8407500  AAL\n",
              "1  2013-02-11  14.89  15.01  14.26  14.46   8882000  AAL\n",
              "2  2013-02-12  14.45  14.51  14.10  14.27   8126000  AAL\n",
              "3  2013-02-13  14.30  14.94  14.25  14.66  10259500  AAL\n",
              "4  2013-02-14  14.94  14.96  13.16  13.99  31879900  AAL"
            ]
          },
          "metadata": {
            "tags": []
          },
          "execution_count": 14
        }
      ]
    },
    {
      "cell_type": "code",
      "metadata": {
        "id": "2Gcw4dhq9Lz5",
        "colab_type": "code",
        "colab": {
          "base_uri": "https://localhost:8080/",
          "height": 35
        },
        "outputId": "8e32dc52-2561-44f6-ff9d-affe5022d531"
      },
      "source": [
        "data.columns"
      ],
      "execution_count": null,
      "outputs": [
        {
          "output_type": "execute_result",
          "data": {
            "text/plain": [
              "Index(['date', 'open', 'high', 'low', 'close', 'volume', 'Name'], dtype='object')"
            ]
          },
          "metadata": {
            "tags": []
          },
          "execution_count": 15
        }
      ]
    },
    {
      "cell_type": "code",
      "metadata": {
        "id": "D4BPkSvZ9SYZ",
        "colab_type": "code",
        "colab": {
          "base_uri": "https://localhost:8080/",
          "height": 35
        },
        "outputId": "65ba2b3c-b0e5-40b7-bd54-c5a2d201e2e4"
      },
      "source": [
        "### How many companies data we have here?\n",
        "data.Name.nunique()"
      ],
      "execution_count": null,
      "outputs": [
        {
          "output_type": "execute_result",
          "data": {
            "text/plain": [
              "505"
            ]
          },
          "metadata": {
            "tags": []
          },
          "execution_count": 16
        }
      ]
    },
    {
      "cell_type": "code",
      "metadata": {
        "id": "xbwR7nV1-g1D",
        "colab_type": "code",
        "colab": {
          "base_uri": "https://localhost:8080/",
          "height": 35
        },
        "outputId": "6e3277c4-7446-4d5d-c6bd-3fc60700138d"
      },
      "source": [
        "## Selecting the data AAL\n",
        "df = data[data['Name']=='AAL']\n",
        "df.shape"
      ],
      "execution_count": null,
      "outputs": [
        {
          "output_type": "execute_result",
          "data": {
            "text/plain": [
              "(1259, 7)"
            ]
          },
          "metadata": {
            "tags": []
          },
          "execution_count": 17
        }
      ]
    },
    {
      "cell_type": "code",
      "metadata": {
        "id": "HugQm1NK-seI",
        "colab_type": "code",
        "colab": {
          "base_uri": "https://localhost:8080/",
          "height": 415
        },
        "outputId": "d26e82ef-22d9-4629-e77f-28b23e7176c4"
      },
      "source": [
        "## select the columns date and close price\n",
        "df = df[['date','close']]\n",
        "df"
      ],
      "execution_count": null,
      "outputs": [
        {
          "output_type": "execute_result",
          "data": {
            "text/html": [
              "<div>\n",
              "<style scoped>\n",
              "    .dataframe tbody tr th:only-of-type {\n",
              "        vertical-align: middle;\n",
              "    }\n",
              "\n",
              "    .dataframe tbody tr th {\n",
              "        vertical-align: top;\n",
              "    }\n",
              "\n",
              "    .dataframe thead th {\n",
              "        text-align: right;\n",
              "    }\n",
              "</style>\n",
              "<table border=\"1\" class=\"dataframe\">\n",
              "  <thead>\n",
              "    <tr style=\"text-align: right;\">\n",
              "      <th></th>\n",
              "      <th>date</th>\n",
              "      <th>close</th>\n",
              "    </tr>\n",
              "  </thead>\n",
              "  <tbody>\n",
              "    <tr>\n",
              "      <th>0</th>\n",
              "      <td>2013-02-08</td>\n",
              "      <td>14.75</td>\n",
              "    </tr>\n",
              "    <tr>\n",
              "      <th>1</th>\n",
              "      <td>2013-02-11</td>\n",
              "      <td>14.46</td>\n",
              "    </tr>\n",
              "    <tr>\n",
              "      <th>2</th>\n",
              "      <td>2013-02-12</td>\n",
              "      <td>14.27</td>\n",
              "    </tr>\n",
              "    <tr>\n",
              "      <th>3</th>\n",
              "      <td>2013-02-13</td>\n",
              "      <td>14.66</td>\n",
              "    </tr>\n",
              "    <tr>\n",
              "      <th>4</th>\n",
              "      <td>2013-02-14</td>\n",
              "      <td>13.99</td>\n",
              "    </tr>\n",
              "    <tr>\n",
              "      <th>...</th>\n",
              "      <td>...</td>\n",
              "      <td>...</td>\n",
              "    </tr>\n",
              "    <tr>\n",
              "      <th>1254</th>\n",
              "      <td>2018-02-01</td>\n",
              "      <td>53.88</td>\n",
              "    </tr>\n",
              "    <tr>\n",
              "      <th>1255</th>\n",
              "      <td>2018-02-02</td>\n",
              "      <td>52.10</td>\n",
              "    </tr>\n",
              "    <tr>\n",
              "      <th>1256</th>\n",
              "      <td>2018-02-05</td>\n",
              "      <td>49.76</td>\n",
              "    </tr>\n",
              "    <tr>\n",
              "      <th>1257</th>\n",
              "      <td>2018-02-06</td>\n",
              "      <td>51.18</td>\n",
              "    </tr>\n",
              "    <tr>\n",
              "      <th>1258</th>\n",
              "      <td>2018-02-07</td>\n",
              "      <td>51.40</td>\n",
              "    </tr>\n",
              "  </tbody>\n",
              "</table>\n",
              "<p>1259 rows × 2 columns</p>\n",
              "</div>"
            ],
            "text/plain": [
              "            date  close\n",
              "0     2013-02-08  14.75\n",
              "1     2013-02-11  14.46\n",
              "2     2013-02-12  14.27\n",
              "3     2013-02-13  14.66\n",
              "4     2013-02-14  13.99\n",
              "...          ...    ...\n",
              "1254  2018-02-01  53.88\n",
              "1255  2018-02-02  52.10\n",
              "1256  2018-02-05  49.76\n",
              "1257  2018-02-06  51.18\n",
              "1258  2018-02-07  51.40\n",
              "\n",
              "[1259 rows x 2 columns]"
            ]
          },
          "metadata": {
            "tags": []
          },
          "execution_count": 18
        }
      ]
    },
    {
      "cell_type": "code",
      "metadata": {
        "id": "bEjQBeDj_BnG",
        "colab_type": "code",
        "colab": {
          "base_uri": "https://localhost:8080/",
          "height": 283
        },
        "outputId": "5c5296d8-60a4-4a01-96c1-e5ee8ac4f34c"
      },
      "source": [
        "#line plot\n",
        "import matplotlib.pyplot as plt\n",
        "plt.plot(df['date'],df['close'])"
      ],
      "execution_count": null,
      "outputs": [
        {
          "output_type": "execute_result",
          "data": {
            "text/plain": [
              "[<matplotlib.lines.Line2D at 0x7f36ae3d4978>]"
            ]
          },
          "metadata": {
            "tags": []
          },
          "execution_count": 19
        },
        {
          "output_type": "display_data",
          "data": {
            "image/png": "[encoded data removed]",
            "text/plain": [
              "<Figure size 432x288 with 1 Axes>"
            ]
          },
          "metadata": {
            "tags": [],
            "needs_background": "light"
          }
        }
      ]
    },
    {
      "cell_type": "code",
      "metadata": {
        "id": "dWukFLmVBIMV",
        "colab_type": "code",
        "colab": {
          "base_uri": "https://localhost:8080/",
          "height": 208
        },
        "outputId": "2add4d5a-9b24-4fad-cea7-6ae35b91f5ca"
      },
      "source": [
        "df.date[:10]"
      ],
      "execution_count": null,
      "outputs": [
        {
          "output_type": "execute_result",
          "data": {
            "text/plain": [
              "0    2013-02-08\n",
              "1    2013-02-11\n",
              "2    2013-02-12\n",
              "3    2013-02-13\n",
              "4    2013-02-14\n",
              "5    2013-02-15\n",
              "6    2013-02-19\n",
              "7    2013-02-20\n",
              "8    2013-02-21\n",
              "9    2013-02-22\n",
              "Name: date, dtype: object"
            ]
          },
          "metadata": {
            "tags": []
          },
          "execution_count": 21
        }
      ]
    },
    {
      "cell_type": "code",
      "metadata": {
        "id": "7JctqbarBURo",
        "colab_type": "code",
        "colab": {
          "base_uri": "https://localhost:8080/",
          "height": 69
        },
        "outputId": "a76a7d59-9986-4442-ab5c-fe47bc763599"
      },
      "source": [
        "## missing values in the data\n",
        "df.isnull().sum()"
      ],
      "execution_count": null,
      "outputs": [
        {
          "output_type": "execute_result",
          "data": {
            "text/plain": [
              "date     0\n",
              "close    0\n",
              "dtype: int64"
            ]
          },
          "metadata": {
            "tags": []
          },
          "execution_count": 22
        }
      ]
    },
    {
      "cell_type": "code",
      "metadata": {
        "id": "r-TzmYWnAN8o",
        "colab_type": "code",
        "colab": {
          "base_uri": "https://localhost:8080/",
          "height": 277
        },
        "outputId": "44c2a68f-3f15-49e0-c157-0a51ed4a7259"
      },
      "source": [
        "## preparing the data\n",
        "## features and target\n",
        "## input and output\n",
        "## last 7 day data as input\n",
        "## X -- [[d1-d7],[d9-d15],[d17-d23].....]\n",
        "## y -- [d8,d16,d24,...]\n",
        "\n",
        "## X --[[d1-d7],[d2-d8],..]\n",
        "## y --[d8,d9,...]\n",
        "X = [] ##input\n",
        "y = [] ##output\n",
        "for i in range(df.shape[0]-7-1):\n",
        "  X.append(df['close'][i:i+7])\n",
        "  y.append(df['close'][i+7])\n",
        "print(X[:2])"
      ],
      "execution_count": null,
      "outputs": [
        {
          "output_type": "stream",
          "text": [
            "[0    14.75\n",
            "1    14.46\n",
            "2    14.27\n",
            "3    14.66\n",
            "4    13.99\n",
            "5    14.50\n",
            "6    14.26\n",
            "Name: close, dtype: float64, 1    14.46\n",
            "2    14.27\n",
            "3    14.66\n",
            "4    13.99\n",
            "5    14.50\n",
            "6    14.26\n",
            "7    13.33\n",
            "Name: close, dtype: float64]\n"
          ],
          "name": "stdout"
        }
      ]
    },
    {
      "cell_type": "code",
      "metadata": {
        "id": "RMkG7EHQFbh5",
        "colab_type": "code",
        "colab": {}
      },
      "source": [
        "import numpy as np\n",
        "X = np.array(X)"
      ],
      "execution_count": null,
      "outputs": []
    },
    {
      "cell_type": "code",
      "metadata": {
        "id": "9hcjxjbRFCKB",
        "colab_type": "code",
        "colab": {
          "base_uri": "https://localhost:8080/",
          "height": 202
        },
        "outputId": "f87f0547-3011-4298-ffdb-39213aa44fc4"
      },
      "source": [
        "df1 = pd.DataFrame(X,columns=['d1','d2','d3','d4','d5','d6','d7'])\n",
        "df1.head()"
      ],
      "execution_count": null,
      "outputs": [
        {
          "output_type": "execute_result",
          "data": {
            "text/html": [
              "<div>\n",
              "<style scoped>\n",
              "    .dataframe tbody tr th:only-of-type {\n",
              "        vertical-align: middle;\n",
              "    }\n",
              "\n",
              "    .dataframe tbody tr th {\n",
              "        vertical-align: top;\n",
              "    }\n",
              "\n",
              "    .dataframe thead th {\n",
              "        text-align: right;\n",
              "    }\n",
              "</style>\n",
              "<table border=\"1\" class=\"dataframe\">\n",
              "  <thead>\n",
              "    <tr style=\"text-align: right;\">\n",
              "      <th></th>\n",
              "      <th>d1</th>\n",
              "      <th>d2</th>\n",
              "      <th>d3</th>\n",
              "      <th>d4</th>\n",
              "      <th>d5</th>\n",
              "      <th>d6</th>\n",
              "      <th>d7</th>\n",
              "    </tr>\n",
              "  </thead>\n",
              "  <tbody>\n",
              "    <tr>\n",
              "      <th>0</th>\n",
              "      <td>14.75</td>\n",
              "      <td>14.46</td>\n",
              "      <td>14.27</td>\n",
              "      <td>14.66</td>\n",
              "      <td>13.99</td>\n",
              "      <td>14.50</td>\n",
              "      <td>14.26</td>\n",
              "    </tr>\n",
              "    <tr>\n",
              "      <th>1</th>\n",
              "      <td>14.46</td>\n",
              "      <td>14.27</td>\n",
              "      <td>14.66</td>\n",
              "      <td>13.99</td>\n",
              "      <td>14.50</td>\n",
              "      <td>14.26</td>\n",
              "      <td>13.33</td>\n",
              "    </tr>\n",
              "    <tr>\n",
              "      <th>2</th>\n",
              "      <td>14.27</td>\n",
              "      <td>14.66</td>\n",
              "      <td>13.99</td>\n",
              "      <td>14.50</td>\n",
              "      <td>14.26</td>\n",
              "      <td>13.33</td>\n",
              "      <td>13.37</td>\n",
              "    </tr>\n",
              "    <tr>\n",
              "      <th>3</th>\n",
              "      <td>14.66</td>\n",
              "      <td>13.99</td>\n",
              "      <td>14.50</td>\n",
              "      <td>14.26</td>\n",
              "      <td>13.33</td>\n",
              "      <td>13.37</td>\n",
              "      <td>13.57</td>\n",
              "    </tr>\n",
              "    <tr>\n",
              "      <th>4</th>\n",
              "      <td>13.99</td>\n",
              "      <td>14.50</td>\n",
              "      <td>14.26</td>\n",
              "      <td>13.33</td>\n",
              "      <td>13.37</td>\n",
              "      <td>13.57</td>\n",
              "      <td>13.02</td>\n",
              "    </tr>\n",
              "  </tbody>\n",
              "</table>\n",
              "</div>"
            ],
            "text/plain": [
              "      d1     d2     d3     d4     d5     d6     d7\n",
              "0  14.75  14.46  14.27  14.66  13.99  14.50  14.26\n",
              "1  14.46  14.27  14.66  13.99  14.50  14.26  13.33\n",
              "2  14.27  14.66  13.99  14.50  14.26  13.33  13.37\n",
              "3  14.66  13.99  14.50  14.26  13.33  13.37  13.57\n",
              "4  13.99  14.50  14.26  13.33  13.37  13.57  13.02"
            ]
          },
          "metadata": {
            "tags": []
          },
          "execution_count": 34
        }
      ]
    },
    {
      "cell_type": "code",
      "metadata": {
        "id": "1XxLRo8jFxZW",
        "colab_type": "code",
        "colab": {
          "base_uri": "https://localhost:8080/",
          "height": 202
        },
        "outputId": "4f10befe-1bf3-400c-b293-ebd1ab9fc339"
      },
      "source": [
        "df1['d8'] = y\n",
        "df1.head()"
      ],
      "execution_count": null,
      "outputs": [
        {
          "output_type": "execute_result",
          "data": {
            "text/html": [
              "<div>\n",
              "<style scoped>\n",
              "    .dataframe tbody tr th:only-of-type {\n",
              "        vertical-align: middle;\n",
              "    }\n",
              "\n",
              "    .dataframe tbody tr th {\n",
              "        vertical-align: top;\n",
              "    }\n",
              "\n",
              "    .dataframe thead th {\n",
              "        text-align: right;\n",
              "    }\n",
              "</style>\n",
              "<table border=\"1\" class=\"dataframe\">\n",
              "  <thead>\n",
              "    <tr style=\"text-align: right;\">\n",
              "      <th></th>\n",
              "      <th>d1</th>\n",
              "      <th>d2</th>\n",
              "      <th>d3</th>\n",
              "      <th>d4</th>\n",
              "      <th>d5</th>\n",
              "      <th>d6</th>\n",
              "      <th>d7</th>\n",
              "      <th>d8</th>\n",
              "    </tr>\n",
              "  </thead>\n",
              "  <tbody>\n",
              "    <tr>\n",
              "      <th>0</th>\n",
              "      <td>14.75</td>\n",
              "      <td>14.46</td>\n",
              "      <td>14.27</td>\n",
              "      <td>14.66</td>\n",
              "      <td>13.99</td>\n",
              "      <td>14.50</td>\n",
              "      <td>14.26</td>\n",
              "      <td>13.33</td>\n",
              "    </tr>\n",
              "    <tr>\n",
              "      <th>1</th>\n",
              "      <td>14.46</td>\n",
              "      <td>14.27</td>\n",
              "      <td>14.66</td>\n",
              "      <td>13.99</td>\n",
              "      <td>14.50</td>\n",
              "      <td>14.26</td>\n",
              "      <td>13.33</td>\n",
              "      <td>13.37</td>\n",
              "    </tr>\n",
              "    <tr>\n",
              "      <th>2</th>\n",
              "      <td>14.27</td>\n",
              "      <td>14.66</td>\n",
              "      <td>13.99</td>\n",
              "      <td>14.50</td>\n",
              "      <td>14.26</td>\n",
              "      <td>13.33</td>\n",
              "      <td>13.37</td>\n",
              "      <td>13.57</td>\n",
              "    </tr>\n",
              "    <tr>\n",
              "      <th>3</th>\n",
              "      <td>14.66</td>\n",
              "      <td>13.99</td>\n",
              "      <td>14.50</td>\n",
              "      <td>14.26</td>\n",
              "      <td>13.33</td>\n",
              "      <td>13.37</td>\n",
              "      <td>13.57</td>\n",
              "      <td>13.02</td>\n",
              "    </tr>\n",
              "    <tr>\n",
              "      <th>4</th>\n",
              "      <td>13.99</td>\n",
              "      <td>14.50</td>\n",
              "      <td>14.26</td>\n",
              "      <td>13.33</td>\n",
              "      <td>13.37</td>\n",
              "      <td>13.57</td>\n",
              "      <td>13.02</td>\n",
              "      <td>13.26</td>\n",
              "    </tr>\n",
              "  </tbody>\n",
              "</table>\n",
              "</div>"
            ],
            "text/plain": [
              "      d1     d2     d3     d4     d5     d6     d7     d8\n",
              "0  14.75  14.46  14.27  14.66  13.99  14.50  14.26  13.33\n",
              "1  14.46  14.27  14.66  13.99  14.50  14.26  13.33  13.37\n",
              "2  14.27  14.66  13.99  14.50  14.26  13.33  13.37  13.57\n",
              "3  14.66  13.99  14.50  14.26  13.33  13.37  13.57  13.02\n",
              "4  13.99  14.50  14.26  13.33  13.37  13.57  13.02  13.26"
            ]
          },
          "metadata": {
            "tags": []
          },
          "execution_count": 35
        }
      ]
    },
    {
      "cell_type": "code",
      "metadata": {
        "id": "kfUdmp4BF5ES",
        "colab_type": "code",
        "colab": {
          "base_uri": "https://localhost:8080/",
          "height": 295
        },
        "outputId": "3db6f8dc-0829-4c0a-98c7-d063e8557f49"
      },
      "source": [
        "df.close[:15]"
      ],
      "execution_count": null,
      "outputs": [
        {
          "output_type": "execute_result",
          "data": {
            "text/plain": [
              "0     14.75\n",
              "1     14.46\n",
              "2     14.27\n",
              "3     14.66\n",
              "4     13.99\n",
              "5     14.50\n",
              "6     14.26\n",
              "7     13.33\n",
              "8     13.37\n",
              "9     13.57\n",
              "10    13.02\n",
              "11    13.26\n",
              "12    13.41\n",
              "13    13.43\n",
              "14    13.61\n",
              "Name: close, dtype: float64"
            ]
          },
          "metadata": {
            "tags": []
          },
          "execution_count": 36
        }
      ]
    },
    {
      "cell_type": "code",
      "metadata": {
        "id": "ja5YOzSOGKH0",
        "colab_type": "code",
        "colab": {
          "base_uri": "https://localhost:8080/",
          "height": 35
        },
        "outputId": "0cd47df3-4692-4fed-8d58-d26cdfdc77f8"
      },
      "source": [
        "df1.shape"
      ],
      "execution_count": null,
      "outputs": [
        {
          "output_type": "execute_result",
          "data": {
            "text/plain": [
              "(1251, 8)"
            ]
          },
          "metadata": {
            "tags": []
          },
          "execution_count": 37
        }
      ]
    },
    {
      "cell_type": "code",
      "metadata": {
        "id": "NF5VlDbBGZX6",
        "colab_type": "code",
        "colab": {
          "base_uri": "https://localhost:8080/",
          "height": 87
        },
        "outputId": "c4ae2045-d65c-4ef3-bad1-538db6a75ee2"
      },
      "source": [
        "## Train test split\n",
        "X_train = df1.iloc[0:1000,0:7]\n",
        "X_test = df1.iloc[1000:,0:7]\n",
        "y_train = df1['d8'][:1000]\n",
        "y_test = df1['d8'][1000:]\n",
        "print(X_train.shape)\n",
        "print(y_train.shape)\n",
        "print(X_test.shape)\n",
        "print(y_test.shape)"
      ],
      "execution_count": null,
      "outputs": [
        {
          "output_type": "stream",
          "text": [
            "(1000, 7)\n",
            "(1000,)\n",
            "(251, 7)\n",
            "(251,)\n"
          ],
          "name": "stdout"
        }
      ]
    },
    {
      "cell_type": "code",
      "metadata": {
        "id": "nQvuuf8NIUqd",
        "colab_type": "code",
        "colab": {
          "base_uri": "https://localhost:8080/",
          "height": 294
        },
        "outputId": "8e569bae-fb90-44dc-f162-d20329e0c15a"
      },
      "source": [
        "## scaling the data\n",
        "from sklearn.preprocessing import StandardScaler\n",
        "sc = StandardScaler()\n",
        "sc.fit(X_train)\n",
        "X_train_sc = pd.DataFrame(sc.transform(X_train),columns = X_train.columns)\n",
        "X_test_sc = pd.DataFrame(sc.transform(X_test),columns = X_train.columns)\n",
        "X_train_sc.describe()"
      ],
      "execution_count": null,
      "outputs": [
        {
          "output_type": "execute_result",
          "data": {
            "text/html": [
              "<div>\n",
              "<style scoped>\n",
              "    .dataframe tbody tr th:only-of-type {\n",
              "        vertical-align: middle;\n",
              "    }\n",
              "\n",
              "    .dataframe tbody tr th {\n",
              "        vertical-align: top;\n",
              "    }\n",
              "\n",
              "    .dataframe thead th {\n",
              "        text-align: right;\n",
              "    }\n",
              "</style>\n",
              "<table border=\"1\" class=\"dataframe\">\n",
              "  <thead>\n",
              "    <tr style=\"text-align: right;\">\n",
              "      <th></th>\n",
              "      <th>d1</th>\n",
              "      <th>d2</th>\n",
              "      <th>d3</th>\n",
              "      <th>d4</th>\n",
              "      <th>d5</th>\n",
              "      <th>d6</th>\n",
              "      <th>d7</th>\n",
              "    </tr>\n",
              "  </thead>\n",
              "  <tbody>\n",
              "    <tr>\n",
              "      <th>count</th>\n",
              "      <td>1.000000e+03</td>\n",
              "      <td>1.000000e+03</td>\n",
              "      <td>1.000000e+03</td>\n",
              "      <td>1.000000e+03</td>\n",
              "      <td>1.000000e+03</td>\n",
              "      <td>1.000000e+03</td>\n",
              "      <td>1.000000e+03</td>\n",
              "    </tr>\n",
              "    <tr>\n",
              "      <th>mean</th>\n",
              "      <td>5.107026e-17</td>\n",
              "      <td>1.179057e-16</td>\n",
              "      <td>3.196332e-16</td>\n",
              "      <td>8.437695e-18</td>\n",
              "      <td>-2.058353e-16</td>\n",
              "      <td>6.408207e-16</td>\n",
              "      <td>3.573808e-16</td>\n",
              "    </tr>\n",
              "    <tr>\n",
              "      <th>std</th>\n",
              "      <td>1.000500e+00</td>\n",
              "      <td>1.000500e+00</td>\n",
              "      <td>1.000500e+00</td>\n",
              "      <td>1.000500e+00</td>\n",
              "      <td>1.000500e+00</td>\n",
              "      <td>1.000500e+00</td>\n",
              "      <td>1.000500e+00</td>\n",
              "    </tr>\n",
              "    <tr>\n",
              "      <th>min</th>\n",
              "      <td>-2.119798e+00</td>\n",
              "      <td>-2.125939e+00</td>\n",
              "      <td>-2.132307e+00</td>\n",
              "      <td>-2.138824e+00</td>\n",
              "      <td>-2.145197e+00</td>\n",
              "      <td>-2.151939e+00</td>\n",
              "      <td>-2.158392e+00</td>\n",
              "    </tr>\n",
              "    <tr>\n",
              "      <th>25%</th>\n",
              "      <td>-5.582080e-01</td>\n",
              "      <td>-5.486430e-01</td>\n",
              "      <td>-5.493180e-01</td>\n",
              "      <td>-5.516601e-01</td>\n",
              "      <td>-5.450605e-01</td>\n",
              "      <td>-5.350756e-01</td>\n",
              "      <td>-5.332242e-01</td>\n",
              "    </tr>\n",
              "    <tr>\n",
              "      <th>50%</th>\n",
              "      <td>2.659776e-01</td>\n",
              "      <td>2.649882e-01</td>\n",
              "      <td>2.640589e-01</td>\n",
              "      <td>2.640761e-01</td>\n",
              "      <td>2.641178e-01</td>\n",
              "      <td>2.631759e-01</td>\n",
              "      <td>2.621305e-01</td>\n",
              "    </tr>\n",
              "    <tr>\n",
              "      <th>75%</th>\n",
              "      <td>6.620601e-01</td>\n",
              "      <td>6.644832e-01</td>\n",
              "      <td>6.649275e-01</td>\n",
              "      <td>6.633158e-01</td>\n",
              "      <td>6.633343e-01</td>\n",
              "      <td>6.668651e-01</td>\n",
              "      <td>6.666995e-01</td>\n",
              "    </tr>\n",
              "    <tr>\n",
              "      <th>max</th>\n",
              "      <td>1.847059e+00</td>\n",
              "      <td>1.847165e+00</td>\n",
              "      <td>1.847513e+00</td>\n",
              "      <td>1.847976e+00</td>\n",
              "      <td>1.848369e+00</td>\n",
              "      <td>1.848914e+00</td>\n",
              "      <td>1.849089e+00</td>\n",
              "    </tr>\n",
              "  </tbody>\n",
              "</table>\n",
              "</div>"
            ],
            "text/plain": [
              "                 d1            d2  ...            d6            d7\n",
              "count  1.000000e+03  1.000000e+03  ...  1.000000e+03  1.000000e+03\n",
              "mean   5.107026e-17  1.179057e-16  ...  6.408207e-16  3.573808e-16\n",
              "std    1.000500e+00  1.000500e+00  ...  1.000500e+00  1.000500e+00\n",
              "min   -2.119798e+00 -2.125939e+00  ... -2.151939e+00 -2.158392e+00\n",
              "25%   -5.582080e-01 -5.486430e-01  ... -5.350756e-01 -5.332242e-01\n",
              "50%    2.659776e-01  2.649882e-01  ...  2.631759e-01  2.621305e-01\n",
              "75%    6.620601e-01  6.644832e-01  ...  6.668651e-01  6.666995e-01\n",
              "max    1.847059e+00  1.847165e+00  ...  1.848914e+00  1.849089e+00\n",
              "\n",
              "[8 rows x 7 columns]"
            ]
          },
          "metadata": {
            "tags": []
          },
          "execution_count": 40
        }
      ]
    },
    {
      "cell_type": "code",
      "metadata": {
        "id": "G7ArHFTDJrKg",
        "colab_type": "code",
        "colab": {
          "base_uri": "https://localhost:8080/",
          "height": 225
        },
        "outputId": "2719892f-444b-4677-9d07-2dd845fe398c"
      },
      "source": [
        "from keras.models import Sequential\n",
        "from keras.layers import Dense,Dropout,LSTM\n",
        "model = Sequential()\n",
        "model.add(LSTM(256,input_shape=(7,1)))\n",
        "model.add(Dense(1))\n",
        "model.summary()"
      ],
      "execution_count": null,
      "outputs": [
        {
          "output_type": "stream",
          "text": [
            "Model: \"sequential_1\"\n",
            "_________________________________________________________________\n",
            "Layer (type)                 Output Shape              Param #   \n",
            "=================================================================\n",
            "lstm_1 (LSTM)                (None, 256)               264192    \n",
            "_________________________________________________________________\n",
            "dense_1 (Dense)              (None, 1)                 257       \n",
            "=================================================================\n",
            "Total params: 264,449\n",
            "Trainable params: 264,449\n",
            "Non-trainable params: 0\n",
            "_________________________________________________________________\n"
          ],
          "name": "stdout"
        }
      ]
    },
    {
      "cell_type": "code",
      "metadata": {
        "id": "A6K3RsdFKjM7",
        "colab_type": "code",
        "colab": {}
      },
      "source": [
        "model.compile(optimizer='adam',loss='mse')"
      ],
      "execution_count": null,
      "outputs": []
    },
    {
      "cell_type": "code",
      "metadata": {
        "id": "BMYPBunXM7fW",
        "colab_type": "code",
        "colab": {
          "base_uri": "https://localhost:8080/",
          "height": 35
        },
        "outputId": "cd4856fb-4134-4618-c9eb-ac589a813cbb"
      },
      "source": [
        "X_test.shape"
      ],
      "execution_count": null,
      "outputs": [
        {
          "output_type": "execute_result",
          "data": {
            "text/plain": [
              "(251, 7)"
            ]
          },
          "metadata": {
            "tags": []
          },
          "execution_count": 47
        }
      ]
    },
    {
      "cell_type": "code",
      "metadata": {
        "id": "DauN4RT6MOS4",
        "colab_type": "code",
        "colab": {}
      },
      "source": [
        "# number of records,time steps, features\n",
        "X_train_sc = X_train_sc.values.reshape(1000,7,1)\n",
        "X_test_sc = X_test_sc.values.reshape(251,7,1)"
      ],
      "execution_count": null,
      "outputs": []
    },
    {
      "cell_type": "code",
      "metadata": {
        "id": "s93SGJusKzuK",
        "colab_type": "code",
        "colab": {
          "base_uri": "https://localhost:8080/",
          "height": 1000
        },
        "outputId": "bb4b6759-6739-4202-c185-3f0818fb9035"
      },
      "source": [
        "history = model.fit(X_train_sc,y_train,epochs=100,validation_data=(X_test_sc,y_test))"
      ],
      "execution_count": null,
      "outputs": [
        {
          "output_type": "stream",
          "text": [
            "Train on 1000 samples, validate on 251 samples\n",
            "Epoch 1/100\n",
            "1000/1000 [==============================] - 1s 1ms/step - loss: 1.3524 - val_loss: 2.4482\n",
            "Epoch 2/100\n",
            "1000/1000 [==============================] - 1s 977us/step - loss: 1.7205 - val_loss: 3.1567\n",
            "Epoch 3/100\n",
            "1000/1000 [==============================] - 1s 960us/step - loss: 1.5958 - val_loss: 1.5186\n",
            "Epoch 4/100\n",
            "1000/1000 [==============================] - 1s 960us/step - loss: 1.3269 - val_loss: 1.7659\n",
            "Epoch 5/100\n",
            "1000/1000 [==============================] - 1s 964us/step - loss: 1.5431 - val_loss: 1.4771\n",
            "Epoch 6/100\n",
            "1000/1000 [==============================] - 1s 961us/step - loss: 1.3129 - val_loss: 1.4980\n",
            "Epoch 7/100\n",
            "1000/1000 [==============================] - 1s 998us/step - loss: 1.2509 - val_loss: 1.5254\n",
            "Epoch 8/100\n",
            "1000/1000 [==============================] - 1s 989us/step - loss: 1.2523 - val_loss: 1.4413\n",
            "Epoch 9/100\n",
            "1000/1000 [==============================] - 1s 986us/step - loss: 1.2366 - val_loss: 1.5775\n",
            "Epoch 10/100\n",
            "1000/1000 [==============================] - 1s 981us/step - loss: 1.2435 - val_loss: 1.4106\n",
            "Epoch 11/100\n",
            "1000/1000 [==============================] - 1s 966us/step - loss: 1.2440 - val_loss: 1.4659\n",
            "Epoch 12/100\n",
            "1000/1000 [==============================] - 1s 1ms/step - loss: 1.1797 - val_loss: 1.3727\n",
            "Epoch 13/100\n",
            "1000/1000 [==============================] - 1s 981us/step - loss: 1.2458 - val_loss: 1.8081\n",
            "Epoch 14/100\n",
            "1000/1000 [==============================] - 1s 980us/step - loss: 1.2109 - val_loss: 2.0594\n",
            "Epoch 15/100\n",
            "1000/1000 [==============================] - 1s 944us/step - loss: 1.3981 - val_loss: 1.3959\n",
            "Epoch 16/100\n",
            "1000/1000 [==============================] - 1s 961us/step - loss: 1.1971 - val_loss: 1.3845\n",
            "Epoch 17/100\n",
            "1000/1000 [==============================] - 1s 955us/step - loss: 1.1618 - val_loss: 1.3367\n",
            "Epoch 18/100\n",
            "1000/1000 [==============================] - 1s 944us/step - loss: 1.2219 - val_loss: 1.6004\n",
            "Epoch 19/100\n",
            "1000/1000 [==============================] - 1s 962us/step - loss: 1.2327 - val_loss: 1.5054\n",
            "Epoch 20/100\n",
            "1000/1000 [==============================] - 1s 979us/step - loss: 1.2104 - val_loss: 1.2300\n",
            "Epoch 21/100\n",
            "1000/1000 [==============================] - 1s 974us/step - loss: 1.1966 - val_loss: 1.2587\n",
            "Epoch 22/100\n",
            "1000/1000 [==============================] - 1s 969us/step - loss: 1.2151 - val_loss: 1.4441\n",
            "Epoch 23/100\n",
            "1000/1000 [==============================] - 1s 998us/step - loss: 1.1379 - val_loss: 1.2768\n",
            "Epoch 24/100\n",
            "1000/1000 [==============================] - 1s 1ms/step - loss: 1.1347 - val_loss: 1.2463\n",
            "Epoch 25/100\n",
            "1000/1000 [==============================] - 1s 970us/step - loss: 1.1183 - val_loss: 1.2051\n",
            "Epoch 26/100\n",
            "1000/1000 [==============================] - 1s 989us/step - loss: 1.1950 - val_loss: 1.4048\n",
            "Epoch 27/100\n",
            "1000/1000 [==============================] - 1s 951us/step - loss: 1.1997 - val_loss: 1.3463\n",
            "Epoch 28/100\n",
            "1000/1000 [==============================] - 1s 955us/step - loss: 1.1317 - val_loss: 2.0313\n",
            "Epoch 29/100\n",
            "1000/1000 [==============================] - 1s 969us/step - loss: 1.3530 - val_loss: 1.3847\n",
            "Epoch 30/100\n",
            "1000/1000 [==============================] - 1s 953us/step - loss: 1.1768 - val_loss: 1.3161\n",
            "Epoch 31/100\n",
            "1000/1000 [==============================] - 1s 953us/step - loss: 1.1294 - val_loss: 2.5256\n",
            "Epoch 32/100\n",
            "1000/1000 [==============================] - 1s 995us/step - loss: 1.2281 - val_loss: 1.3466\n",
            "Epoch 33/100\n",
            "1000/1000 [==============================] - 1s 998us/step - loss: 1.1197 - val_loss: 1.1874\n",
            "Epoch 34/100\n",
            "1000/1000 [==============================] - 1s 968us/step - loss: 1.1616 - val_loss: 2.0349\n",
            "Epoch 35/100\n",
            "1000/1000 [==============================] - 1s 969us/step - loss: 1.1162 - val_loss: 1.6931\n",
            "Epoch 36/100\n",
            "1000/1000 [==============================] - 1s 991us/step - loss: 1.0998 - val_loss: 1.1180\n",
            "Epoch 37/100\n",
            "1000/1000 [==============================] - 1s 954us/step - loss: 1.0955 - val_loss: 2.1358\n",
            "Epoch 38/100\n",
            "1000/1000 [==============================] - 1s 1ms/step - loss: 1.1716 - val_loss: 1.3461\n",
            "Epoch 39/100\n",
            "1000/1000 [==============================] - 1s 952us/step - loss: 1.0727 - val_loss: 1.1670\n",
            "Epoch 40/100\n",
            "1000/1000 [==============================] - 1s 953us/step - loss: 1.1235 - val_loss: 1.3766\n",
            "Epoch 41/100\n",
            "1000/1000 [==============================] - 1s 969us/step - loss: 1.0524 - val_loss: 1.5633\n",
            "Epoch 42/100\n",
            "1000/1000 [==============================] - 1s 991us/step - loss: 1.0723 - val_loss: 1.0909\n",
            "Epoch 43/100\n",
            "1000/1000 [==============================] - 1s 991us/step - loss: 1.1339 - val_loss: 1.2237\n",
            "Epoch 44/100\n",
            "1000/1000 [==============================] - 1s 966us/step - loss: 1.0746 - val_loss: 1.0667\n",
            "Epoch 45/100\n",
            "1000/1000 [==============================] - 1s 963us/step - loss: 1.0701 - val_loss: 1.3144\n",
            "Epoch 46/100\n",
            "1000/1000 [==============================] - 1s 955us/step - loss: 1.2051 - val_loss: 3.3351\n",
            "Epoch 47/100\n",
            "1000/1000 [==============================] - 1s 997us/step - loss: 1.2418 - val_loss: 1.2185\n",
            "Epoch 48/100\n",
            "1000/1000 [==============================] - 1s 979us/step - loss: 1.1040 - val_loss: 1.0410\n",
            "Epoch 49/100\n",
            "1000/1000 [==============================] - 1s 949us/step - loss: 1.0801 - val_loss: 1.1379\n",
            "Epoch 50/100\n",
            "1000/1000 [==============================] - 1s 956us/step - loss: 1.0277 - val_loss: 1.0852\n",
            "Epoch 51/100\n",
            "1000/1000 [==============================] - 1s 963us/step - loss: 0.9999 - val_loss: 1.0964\n",
            "Epoch 52/100\n",
            "1000/1000 [==============================] - 1s 972us/step - loss: 1.0366 - val_loss: 1.0638\n",
            "Epoch 53/100\n",
            "1000/1000 [==============================] - 1s 965us/step - loss: 1.0234 - val_loss: 1.1105\n",
            "Epoch 54/100\n",
            "1000/1000 [==============================] - 1s 964us/step - loss: 1.2199 - val_loss: 1.6000\n",
            "Epoch 55/100\n",
            "1000/1000 [==============================] - 1s 974us/step - loss: 1.4348 - val_loss: 1.5948\n",
            "Epoch 56/100\n",
            "1000/1000 [==============================] - 1s 992us/step - loss: 1.1327 - val_loss: 1.1804\n",
            "Epoch 57/100\n",
            "1000/1000 [==============================] - 1s 964us/step - loss: 1.0874 - val_loss: 1.3123\n",
            "Epoch 58/100\n",
            "1000/1000 [==============================] - 1s 971us/step - loss: 1.0107 - val_loss: 1.1503\n",
            "Epoch 59/100\n",
            "1000/1000 [==============================] - 1s 1ms/step - loss: 0.9759 - val_loss: 1.0297\n",
            "Epoch 60/100\n",
            "1000/1000 [==============================] - 1s 960us/step - loss: 1.0024 - val_loss: 1.2265\n",
            "Epoch 61/100\n",
            "1000/1000 [==============================] - 1s 1ms/step - loss: 0.9991 - val_loss: 1.0549\n",
            "Epoch 62/100\n",
            "1000/1000 [==============================] - 1s 985us/step - loss: 0.9767 - val_loss: 1.1563\n",
            "Epoch 63/100\n",
            "1000/1000 [==============================] - 1s 961us/step - loss: 0.9595 - val_loss: 1.0787\n",
            "Epoch 64/100\n",
            "1000/1000 [==============================] - 1s 974us/step - loss: 0.9771 - val_loss: 1.1030\n",
            "Epoch 65/100\n",
            "1000/1000 [==============================] - 1s 997us/step - loss: 1.0384 - val_loss: 1.6075\n",
            "Epoch 66/100\n",
            "1000/1000 [==============================] - 1s 977us/step - loss: 1.0150 - val_loss: 1.8343\n",
            "Epoch 67/100\n",
            "1000/1000 [==============================] - 1s 954us/step - loss: 1.1564 - val_loss: 1.0773\n",
            "Epoch 68/100\n",
            "1000/1000 [==============================] - 1s 969us/step - loss: 0.9990 - val_loss: 1.6658\n",
            "Epoch 69/100\n",
            "1000/1000 [==============================] - 1s 954us/step - loss: 1.0569 - val_loss: 1.4393\n",
            "Epoch 70/100\n",
            "1000/1000 [==============================] - 1s 939us/step - loss: 0.9192 - val_loss: 1.0293\n",
            "Epoch 71/100\n",
            "1000/1000 [==============================] - 1s 988us/step - loss: 0.9272 - val_loss: 1.0433\n",
            "Epoch 72/100\n",
            "1000/1000 [==============================] - 1s 987us/step - loss: 1.1472 - val_loss: 1.1737\n",
            "Epoch 73/100\n",
            "1000/1000 [==============================] - 1s 951us/step - loss: 0.9481 - val_loss: 1.1506\n",
            "Epoch 74/100\n",
            "1000/1000 [==============================] - 1s 947us/step - loss: 0.9956 - val_loss: 1.0276\n",
            "Epoch 75/100\n",
            "1000/1000 [==============================] - 1s 966us/step - loss: 0.9508 - val_loss: 1.6865\n",
            "Epoch 76/100\n",
            "1000/1000 [==============================] - 1s 965us/step - loss: 0.9587 - val_loss: 0.9392\n",
            "Epoch 77/100\n",
            "1000/1000 [==============================] - 1s 987us/step - loss: 0.9630 - val_loss: 1.0348\n",
            "Epoch 78/100\n",
            "1000/1000 [==============================] - 1s 995us/step - loss: 0.9371 - val_loss: 1.0727\n",
            "Epoch 79/100\n",
            "1000/1000 [==============================] - 1s 968us/step - loss: 0.9514 - val_loss: 1.2413\n",
            "Epoch 80/100\n",
            "1000/1000 [==============================] - 1s 968us/step - loss: 0.8935 - val_loss: 1.0494\n",
            "Epoch 81/100\n",
            "1000/1000 [==============================] - 1s 1ms/step - loss: 0.9399 - val_loss: 1.1047\n",
            "Epoch 82/100\n",
            "1000/1000 [==============================] - 1s 998us/step - loss: 0.9823 - val_loss: 0.9236\n",
            "Epoch 83/100\n",
            "1000/1000 [==============================] - 1s 1ms/step - loss: 1.0230 - val_loss: 1.0750\n",
            "Epoch 84/100\n",
            "1000/1000 [==============================] - 1s 985us/step - loss: 0.9610 - val_loss: 1.2961\n",
            "Epoch 85/100\n",
            "1000/1000 [==============================] - 1s 978us/step - loss: 0.9923 - val_loss: 1.8449\n",
            "Epoch 86/100\n",
            "1000/1000 [==============================] - 1s 966us/step - loss: 0.9362 - val_loss: 1.0024\n",
            "Epoch 87/100\n",
            "1000/1000 [==============================] - 1s 977us/step - loss: 0.9464 - val_loss: 1.8633\n",
            "Epoch 88/100\n",
            "1000/1000 [==============================] - 1s 981us/step - loss: 1.0465 - val_loss: 1.0646\n",
            "Epoch 89/100\n",
            "1000/1000 [==============================] - 1s 957us/step - loss: 1.8378 - val_loss: 1.6763\n",
            "Epoch 90/100\n",
            "1000/1000 [==============================] - 1s 956us/step - loss: 1.4488 - val_loss: 1.4144\n",
            "Epoch 91/100\n",
            "1000/1000 [==============================] - 1s 994us/step - loss: 1.2437 - val_loss: 1.2260\n",
            "Epoch 92/100\n",
            "1000/1000 [==============================] - 1s 995us/step - loss: 1.0349 - val_loss: 1.1714\n",
            "Epoch 93/100\n",
            "1000/1000 [==============================] - 1s 981us/step - loss: 1.3169 - val_loss: 1.1324\n",
            "Epoch 94/100\n",
            "1000/1000 [==============================] - 1s 981us/step - loss: 1.0836 - val_loss: 1.6462\n",
            "Epoch 95/100\n",
            "1000/1000 [==============================] - 1s 980us/step - loss: 0.9696 - val_loss: 1.0830\n",
            "Epoch 96/100\n",
            "1000/1000 [==============================] - 1s 961us/step - loss: 0.9146 - val_loss: 1.0841\n",
            "Epoch 97/100\n",
            "1000/1000 [==============================] - 1s 959us/step - loss: 1.0621 - val_loss: 1.1729\n",
            "Epoch 98/100\n",
            "1000/1000 [==============================] - 1s 952us/step - loss: 1.0069 - val_loss: 1.1364\n",
            "Epoch 99/100\n",
            "1000/1000 [==============================] - 1s 1ms/step - loss: 1.0729 - val_loss: 0.9620\n",
            "Epoch 100/100\n",
            "1000/1000 [==============================] - 1s 983us/step - loss: 0.9197 - val_loss: 1.2435\n"
          ],
          "name": "stdout"
        }
      ]
    },
    {
      "cell_type": "code",
      "metadata": {
        "id": "-NDUDN6BQppf",
        "colab_type": "code",
        "colab": {
          "base_uri": "https://localhost:8080/",
          "height": 283
        },
        "outputId": "0aec38a0-f9c6-4e86-bb21-3ca00080de7e"
      },
      "source": [
        "tr_loss = history.history['loss']\n",
        "val_loss = history.history['val_loss']\n",
        "ep = list(range(1,101))\n",
        "plt.plot(ep,tr_loss,color='r')\n",
        "plt.plot(ep,val_loss,color='b')"
      ],
      "execution_count": null,
      "outputs": [
        {
          "output_type": "execute_result",
          "data": {
            "text/plain": [
              "[<matplotlib.lines.Line2D at 0x7f3658187390>]"
            ]
          },
          "metadata": {
            "tags": []
          },
          "execution_count": 57
        },
        {
          "output_type": "display_data",
          "data": {
            "image/png": "[encoded data removed]",
            "text/plain": [
              "<Figure size 432x288 with 1 Axes>"
            ]
          },
          "metadata": {
            "tags": [],
            "needs_background": "light"
          }
        }
      ]
    },
    {
      "cell_type": "code",
      "metadata": {
        "id": "KblldWuPRTH7",
        "colab_type": "code",
        "colab": {
          "base_uri": "https://localhost:8080/",
          "height": 1000
        },
        "outputId": "2d6a9b64-4fed-4eb0-c92e-40ee2937852e"
      },
      "source": [
        "model.predict(X_test_sc)"
      ],
      "execution_count": null,
      "outputs": [
        {
          "output_type": "execute_result",
          "data": {
            "text/plain": [
              "array([[44.677635],\n",
              "       [44.594894],\n",
              "       [45.487545],\n",
              "       [45.90764 ],\n",
              "       [46.674377],\n",
              "       [46.306244],\n",
              "       [46.85215 ],\n",
              "       [46.656147],\n",
              "       [46.492813],\n",
              "       [46.395508],\n",
              "       [46.002525],\n",
              "       [45.718765],\n",
              "       [45.776566],\n",
              "       [45.83935 ],\n",
              "       [45.878246],\n",
              "       [46.424778],\n",
              "       [45.601906],\n",
              "       [46.09949 ],\n",
              "       [45.22837 ],\n",
              "       [44.5265  ],\n",
              "       [44.412437],\n",
              "       [43.249344],\n",
              "       [43.2657  ],\n",
              "       [42.255737],\n",
              "       [41.02179 ],\n",
              "       [41.32987 ],\n",
              "       [41.572094],\n",
              "       [41.28823 ],\n",
              "       [41.16333 ],\n",
              "       [40.239952],\n",
              "       [39.85486 ],\n",
              "       [40.576088],\n",
              "       [41.087666],\n",
              "       [41.186417],\n",
              "       [41.818523],\n",
              "       [41.59121 ],\n",
              "       [41.857468],\n",
              "       [41.824554],\n",
              "       [41.878506],\n",
              "       [40.789257],\n",
              "       [40.67933 ],\n",
              "       [41.06579 ],\n",
              "       [41.238976],\n",
              "       [41.632187],\n",
              "       [42.942474],\n",
              "       [43.40561 ],\n",
              "       [42.994133],\n",
              "       [43.493057],\n",
              "       [43.405224],\n",
              "       [43.740395],\n",
              "       [44.481644],\n",
              "       [44.6522  ],\n",
              "       [45.606384],\n",
              "       [46.056892],\n",
              "       [45.985653],\n",
              "       [44.15914 ],\n",
              "       [42.551804],\n",
              "       [41.754135],\n",
              "       [42.86769 ],\n",
              "       [43.343044],\n",
              "       [43.366756],\n",
              "       [43.82953 ],\n",
              "       [44.315006],\n",
              "       [46.00284 ],\n",
              "       [46.699593],\n",
              "       [46.266693],\n",
              "       [45.596897],\n",
              "       [46.03384 ],\n",
              "       [46.39823 ],\n",
              "       [44.971504],\n",
              "       [44.292297],\n",
              "       [44.60314 ],\n",
              "       [45.44619 ],\n",
              "       [46.016468],\n",
              "       [46.23987 ],\n",
              "       [47.216553],\n",
              "       [48.045204],\n",
              "       [47.69104 ],\n",
              "       [47.876343],\n",
              "       [48.42511 ],\n",
              "       [48.90676 ],\n",
              "       [49.18344 ],\n",
              "       [49.260067],\n",
              "       [50.061157],\n",
              "       [50.684917],\n",
              "       [50.0492  ],\n",
              "       [49.30089 ],\n",
              "       [49.07998 ],\n",
              "       [48.979553],\n",
              "       [48.7386  ],\n",
              "       [48.440033],\n",
              "       [48.980377],\n",
              "       [47.996994],\n",
              "       [47.94391 ],\n",
              "       [48.3779  ],\n",
              "       [48.24827 ],\n",
              "       [48.298027],\n",
              "       [48.128227],\n",
              "       [48.61094 ],\n",
              "       [49.027275],\n",
              "       [49.616898],\n",
              "       [49.84379 ],\n",
              "       [50.49169 ],\n",
              "       [51.21592 ],\n",
              "       [52.041664],\n",
              "       [52.03308 ],\n",
              "       [51.33458 ],\n",
              "       [52.557495],\n",
              "       [52.906364],\n",
              "       [53.221226],\n",
              "       [53.116577],\n",
              "       [52.6391  ],\n",
              "       [52.16618 ],\n",
              "       [51.847363],\n",
              "       [51.473904],\n",
              "       [50.943024],\n",
              "       [50.338463],\n",
              "       [50.442436],\n",
              "       [49.788467],\n",
              "       [49.917976],\n",
              "       [49.954292],\n",
              "       [50.372406],\n",
              "       [50.08864 ],\n",
              "       [50.05726 ],\n",
              "       [50.242905],\n",
              "       [50.13549 ],\n",
              "       [49.696888],\n",
              "       [49.147583],\n",
              "       [48.38932 ],\n",
              "       [48.019936],\n",
              "       [48.25745 ],\n",
              "       [48.129498],\n",
              "       [47.996742],\n",
              "       [46.234062],\n",
              "       [45.314087],\n",
              "       [45.2399  ],\n",
              "       [45.010197],\n",
              "       [43.86031 ],\n",
              "       [42.720528],\n",
              "       [44.13239 ],\n",
              "       [44.480194],\n",
              "       [44.147064],\n",
              "       [43.886997],\n",
              "       [44.14176 ],\n",
              "       [44.660126],\n",
              "       [43.7737  ],\n",
              "       [43.727695],\n",
              "       [43.46082 ],\n",
              "       [43.1631  ],\n",
              "       [44.739944],\n",
              "       [45.621063],\n",
              "       [46.30391 ],\n",
              "       [45.919773],\n",
              "       [45.62399 ],\n",
              "       [45.053616],\n",
              "       [44.172596],\n",
              "       [44.67754 ],\n",
              "       [45.542854],\n",
              "       [46.33465 ],\n",
              "       [47.020905],\n",
              "       [47.133316],\n",
              "       [46.612877],\n",
              "       [46.9086  ],\n",
              "       [47.03347 ],\n",
              "       [47.210957],\n",
              "       [49.237106],\n",
              "       [50.016388],\n",
              "       [50.05963 ],\n",
              "       [50.5887  ],\n",
              "       [50.274734],\n",
              "       [51.772926],\n",
              "       [52.07786 ],\n",
              "       [52.01377 ],\n",
              "       [52.054688],\n",
              "       [51.78208 ],\n",
              "       [51.569626],\n",
              "       [51.475933],\n",
              "       [51.106113],\n",
              "       [51.277565],\n",
              "       [50.698807],\n",
              "       [51.17009 ],\n",
              "       [50.706367],\n",
              "       [48.855293],\n",
              "       [47.55597 ],\n",
              "       [46.983704],\n",
              "       [46.516335],\n",
              "       [47.11108 ],\n",
              "       [46.986717],\n",
              "       [46.97679 ],\n",
              "       [47.047165],\n",
              "       [46.296486],\n",
              "       [45.981133],\n",
              "       [45.4828  ],\n",
              "       [45.357456],\n",
              "       [45.287575],\n",
              "       [45.312496],\n",
              "       [46.33851 ],\n",
              "       [47.03206 ],\n",
              "       [46.983894],\n",
              "       [47.17052 ],\n",
              "       [47.938004],\n",
              "       [48.172974],\n",
              "       [48.131523],\n",
              "       [48.024612],\n",
              "       [48.56687 ],\n",
              "       [48.757935],\n",
              "       [49.651825],\n",
              "       [48.889465],\n",
              "       [49.277397],\n",
              "       [49.12329 ],\n",
              "       [49.13143 ],\n",
              "       [50.033394],\n",
              "       [50.390755],\n",
              "       [50.667816],\n",
              "       [50.185543],\n",
              "       [49.775955],\n",
              "       [49.750145],\n",
              "       [50.321457],\n",
              "       [50.777996],\n",
              "       [50.86411 ],\n",
              "       [51.216316],\n",
              "       [51.89119 ],\n",
              "       [51.943962],\n",
              "       [52.116055],\n",
              "       [51.88373 ],\n",
              "       [51.85051 ],\n",
              "       [51.563133],\n",
              "       [52.095215],\n",
              "       [51.835163],\n",
              "       [51.95945 ],\n",
              "       [52.00199 ],\n",
              "       [51.66391 ],\n",
              "       [51.538574],\n",
              "       [52.59292 ],\n",
              "       [54.43872 ],\n",
              "       [55.980003],\n",
              "       [56.126556],\n",
              "       [56.29637 ],\n",
              "       [56.436577],\n",
              "       [56.31951 ],\n",
              "       [56.30992 ],\n",
              "       [56.399723],\n",
              "       [54.546196],\n",
              "       [53.00048 ],\n",
              "       [52.572662],\n",
              "       [52.171806],\n",
              "       [51.98928 ],\n",
              "       [53.035004],\n",
              "       [53.06192 ],\n",
              "       [51.93222 ],\n",
              "       [50.038765]], dtype=float32)"
            ]
          },
          "metadata": {
            "tags": []
          },
          "execution_count": 58
        }
      ]
    },
    {
      "cell_type": "code",
      "metadata": {
        "id": "hN52sMcpRaVQ",
        "colab_type": "code",
        "colab": {
          "base_uri": "https://localhost:8080/",
          "height": 283
        },
        "outputId": "cdf6ef7e-a596-4766-881d-f4b1aa8cb19c"
      },
      "source": [
        "plt.plot(range(len(X_test_sc)),model.predict(X_test_sc).flat)\n",
        "plt.plot(range(len(X_test_sc)),y_test)"
      ],
      "execution_count": null,
      "outputs": [
        {
          "output_type": "execute_result",
          "data": {
            "text/plain": [
              "[<matplotlib.lines.Line2D at 0x7f36580deb38>]"
            ]
          },
          "metadata": {
            "tags": []
          },
          "execution_count": 59
        },
        {
          "output_type": "display_data",
          "data": {
            "image/png": "[encoded data removed]",
            "text/plain": [
              "<Figure size 432x288 with 1 Axes>"
            ]
          },
          "metadata": {
            "tags": [],
            "needs_background": "light"
          }
        }
      ]
    },
    {
      "cell_type": "code",
      "metadata": {
        "id": "PBWALhJLNOjA",
        "colab_type": "code",
        "colab": {
          "base_uri": "https://localhost:8080/",
          "height": 139
        },
        "outputId": "37693316-b37e-4439-94e9-a6006ad70cb7"
      },
      "source": [
        "X_test_sc[0].reshape(1,7,1)"
      ],
      "execution_count": null,
      "outputs": [
        {
          "output_type": "execute_result",
          "data": {
            "text/plain": [
              "array([[[0.83910218],\n",
              "        [0.77719701],\n",
              "        [0.75711333],\n",
              "        [0.75193205],\n",
              "        [0.7682191 ],\n",
              "        [0.86976278],\n",
              "        [0.85612661]]])"
            ]
          },
          "metadata": {
            "tags": []
          },
          "execution_count": 50
        }
      ]
    },
    {
      "cell_type": "code",
      "metadata": {
        "id": "a-RhgAHiNVVY",
        "colab_type": "code",
        "colab": {
          "base_uri": "https://localhost:8080/",
          "height": 35
        },
        "outputId": "3d1cf114-2ee4-4e0b-dad0-e9fd2dba67cf"
      },
      "source": [
        "model.predict(X_test_sc[0].reshape(1,7,1))"
      ],
      "execution_count": null,
      "outputs": [
        {
          "output_type": "execute_result",
          "data": {
            "text/plain": [
              "array([[45.30925]], dtype=float32)"
            ]
          },
          "metadata": {
            "tags": []
          },
          "execution_count": 51
        }
      ]
    },
    {
      "cell_type": "code",
      "metadata": {
        "id": "bzHyy1GZNfn4",
        "colab_type": "code",
        "colab": {
          "base_uri": "https://localhost:8080/",
          "height": 35
        },
        "outputId": "f61240d8-8b9b-4ced-d8ef-76d06c0f2d6b"
      },
      "source": [
        "y_test[1000]"
      ],
      "execution_count": null,
      "outputs": [
        {
          "output_type": "execute_result",
          "data": {
            "text/plain": [
              "45.06"
            ]
          },
          "metadata": {
            "tags": []
          },
          "execution_count": 52
        }
      ]
    },
    {
      "cell_type": "code",
      "metadata": {
        "id": "Usc_987sSeDZ",
        "colab_type": "code",
        "colab": {
          "base_uri": "https://localhost:8080/",
          "height": 260
        },
        "outputId": "762380e8-7de2-4c64-8f20-6bf3c2cd1f26"
      },
      "source": [
        "from keras.models import Sequential\n",
        "from keras.layers import Dense,Dropout,LSTM\n",
        "model2 = Sequential()\n",
        "model2.add(LSTM(256,input_shape=(7,1)))\n",
        "model2.add(Dropout(0.3))\n",
        "model2.add(Dense(1))\n",
        "model2.summary()"
      ],
      "execution_count": null,
      "outputs": [
        {
          "output_type": "stream",
          "text": [
            "Model: \"sequential_5\"\n",
            "_________________________________________________________________\n",
            "Layer (type)                 Output Shape              Param #   \n",
            "=================================================================\n",
            "lstm_7 (LSTM)                (None, 256)               264192    \n",
            "_________________________________________________________________\n",
            "dropout_2 (Dropout)          (None, 256)               0         \n",
            "_________________________________________________________________\n",
            "dense_3 (Dense)              (None, 1)                 257       \n",
            "=================================================================\n",
            "Total params: 264,449\n",
            "Trainable params: 264,449\n",
            "Non-trainable params: 0\n",
            "_________________________________________________________________\n"
          ],
          "name": "stdout"
        }
      ]
    },
    {
      "cell_type": "code",
      "metadata": {
        "id": "yp_6nZi4TQdX",
        "colab_type": "code",
        "colab": {}
      },
      "source": [
        "model2.compile(optimizer='adam',loss='mse')"
      ],
      "execution_count": null,
      "outputs": []
    },
    {
      "cell_type": "code",
      "metadata": {
        "id": "gQvJ387xTe47",
        "colab_type": "code",
        "colab": {
          "base_uri": "https://localhost:8080/",
          "height": 35
        },
        "outputId": "497e6269-ca28-46da-f874-91dd0195b9e5"
      },
      "source": [
        "X_test.shape"
      ],
      "execution_count": null,
      "outputs": [
        {
          "output_type": "execute_result",
          "data": {
            "text/plain": [
              "(251, 7)"
            ]
          },
          "metadata": {
            "tags": []
          },
          "execution_count": 67
        }
      ]
    },
    {
      "cell_type": "code",
      "metadata": {
        "id": "WdLPu39xT4VU",
        "colab_type": "code",
        "colab": {
          "base_uri": "https://localhost:8080/",
          "height": 1000
        },
        "outputId": "3e96773c-0afc-44a7-ed54-77b3b7b5e796"
      },
      "source": [
        "history2 = model2.fit(X_train_sc,y_train,epochs=100,validation_data=(X_test_sc,y_test))"
      ],
      "execution_count": null,
      "outputs": [
        {
          "output_type": "stream",
          "text": [
            "Train on 1000 samples, validate on 251 samples\n",
            "Epoch 1/100\n",
            "1000/1000 [==============================] - 1s 979us/step - loss: 4.0270 - val_loss: 1.3858\n",
            "Epoch 2/100\n",
            "1000/1000 [==============================] - 1s 978us/step - loss: 3.6329 - val_loss: 1.1770\n",
            "Epoch 3/100\n",
            "1000/1000 [==============================] - 1s 964us/step - loss: 3.5326 - val_loss: 1.4523\n",
            "Epoch 4/100\n",
            "1000/1000 [==============================] - 1s 952us/step - loss: 3.9029 - val_loss: 1.8432\n",
            "Epoch 5/100\n",
            "1000/1000 [==============================] - 1s 990us/step - loss: 3.8091 - val_loss: 1.8628\n",
            "Epoch 6/100\n",
            "1000/1000 [==============================] - 1s 955us/step - loss: 3.5093 - val_loss: 1.1194\n",
            "Epoch 7/100\n",
            "1000/1000 [==============================] - 1s 977us/step - loss: 3.4453 - val_loss: 1.1296\n",
            "Epoch 8/100\n",
            "1000/1000 [==============================] - 1s 968us/step - loss: 3.3225 - val_loss: 1.3977\n",
            "Epoch 9/100\n",
            "1000/1000 [==============================] - 1s 979us/step - loss: 3.4259 - val_loss: 1.3036\n",
            "Epoch 10/100\n",
            "1000/1000 [==============================] - 1s 963us/step - loss: 3.7210 - val_loss: 1.0630\n",
            "Epoch 11/100\n",
            "1000/1000 [==============================] - 1s 965us/step - loss: 3.5457 - val_loss: 1.0623\n",
            "Epoch 12/100\n",
            "1000/1000 [==============================] - 1s 961us/step - loss: 3.4066 - val_loss: 1.0964\n",
            "Epoch 13/100\n",
            "1000/1000 [==============================] - 1s 947us/step - loss: 3.2666 - val_loss: 1.5167\n",
            "Epoch 14/100\n",
            "1000/1000 [==============================] - 1s 959us/step - loss: 3.8156 - val_loss: 1.6294\n",
            "Epoch 15/100\n",
            "1000/1000 [==============================] - 1s 959us/step - loss: 3.9103 - val_loss: 1.1734\n",
            "Epoch 16/100\n",
            "1000/1000 [==============================] - 1s 975us/step - loss: 3.9151 - val_loss: 1.1599\n",
            "Epoch 17/100\n",
            "1000/1000 [==============================] - 1s 959us/step - loss: 3.6999 - val_loss: 1.2250\n",
            "Epoch 18/100\n",
            "1000/1000 [==============================] - 1s 969us/step - loss: 3.5495 - val_loss: 1.1020\n",
            "Epoch 19/100\n",
            "1000/1000 [==============================] - 1s 957us/step - loss: 3.6927 - val_loss: 1.0490\n",
            "Epoch 20/100\n",
            "1000/1000 [==============================] - 1s 954us/step - loss: 3.6932 - val_loss: 1.1509\n",
            "Epoch 21/100\n",
            "1000/1000 [==============================] - 1s 983us/step - loss: 3.9192 - val_loss: 1.2493\n",
            "Epoch 22/100\n",
            "1000/1000 [==============================] - 1s 975us/step - loss: 3.6458 - val_loss: 1.6215\n",
            "Epoch 23/100\n",
            "1000/1000 [==============================] - 1s 973us/step - loss: 3.4620 - val_loss: 1.4962\n",
            "Epoch 24/100\n",
            "1000/1000 [==============================] - 1s 966us/step - loss: 3.8282 - val_loss: 1.0051\n",
            "Epoch 25/100\n",
            "1000/1000 [==============================] - 1s 941us/step - loss: 3.6647 - val_loss: 1.0998\n",
            "Epoch 26/100\n",
            "1000/1000 [==============================] - 1s 967us/step - loss: 3.6240 - val_loss: 2.4265\n",
            "Epoch 27/100\n",
            "1000/1000 [==============================] - 1s 970us/step - loss: 3.6955 - val_loss: 1.0988\n",
            "Epoch 28/100\n",
            "1000/1000 [==============================] - 1s 989us/step - loss: 3.3355 - val_loss: 1.0345\n",
            "Epoch 29/100\n",
            "1000/1000 [==============================] - 1s 974us/step - loss: 3.4400 - val_loss: 1.7243\n",
            "Epoch 30/100\n",
            "1000/1000 [==============================] - 1s 950us/step - loss: 4.0454 - val_loss: 1.7809\n",
            "Epoch 31/100\n",
            "1000/1000 [==============================] - 1s 953us/step - loss: 3.4971 - val_loss: 1.5086\n",
            "Epoch 32/100\n",
            "1000/1000 [==============================] - 1s 963us/step - loss: 3.5767 - val_loss: 1.2515\n",
            "Epoch 33/100\n",
            "1000/1000 [==============================] - 1s 963us/step - loss: 3.5538 - val_loss: 1.6222\n",
            "Epoch 34/100\n",
            "1000/1000 [==============================] - 1s 943us/step - loss: 3.4333 - val_loss: 2.2903\n",
            "Epoch 35/100\n",
            "1000/1000 [==============================] - 1s 959us/step - loss: 3.6583 - val_loss: 1.1308\n",
            "Epoch 36/100\n",
            "1000/1000 [==============================] - 1s 972us/step - loss: 3.5642 - val_loss: 2.3811\n",
            "Epoch 37/100\n",
            "1000/1000 [==============================] - 1s 972us/step - loss: 3.9524 - val_loss: 2.1432\n",
            "Epoch 38/100\n",
            "1000/1000 [==============================] - 1s 993us/step - loss: 3.6335 - val_loss: 1.0289\n",
            "Epoch 39/100\n",
            "1000/1000 [==============================] - 1s 949us/step - loss: 3.8633 - val_loss: 2.1331\n",
            "Epoch 40/100\n",
            "1000/1000 [==============================] - 1s 956us/step - loss: 3.4819 - val_loss: 1.0224\n",
            "Epoch 41/100\n",
            "1000/1000 [==============================] - 1s 929us/step - loss: 3.7622 - val_loss: 1.5905\n",
            "Epoch 42/100\n",
            "1000/1000 [==============================] - 1s 956us/step - loss: 3.8481 - val_loss: 1.2522\n",
            "Epoch 43/100\n",
            "1000/1000 [==============================] - 1s 946us/step - loss: 3.4522 - val_loss: 1.0957\n",
            "Epoch 44/100\n",
            "1000/1000 [==============================] - 1s 921us/step - loss: 3.5252 - val_loss: 1.7165\n",
            "Epoch 45/100\n",
            "1000/1000 [==============================] - 1s 957us/step - loss: 3.5475 - val_loss: 1.4540\n",
            "Epoch 46/100\n",
            "1000/1000 [==============================] - 1s 958us/step - loss: 3.6341 - val_loss: 1.2032\n",
            "Epoch 47/100\n",
            "1000/1000 [==============================] - 1s 948us/step - loss: 3.3289 - val_loss: 1.1571\n",
            "Epoch 48/100\n",
            "1000/1000 [==============================] - 1s 937us/step - loss: 3.1614 - val_loss: 1.0422\n",
            "Epoch 49/100\n",
            "1000/1000 [==============================] - 1s 955us/step - loss: 3.5115 - val_loss: 1.6210\n",
            "Epoch 50/100\n",
            "1000/1000 [==============================] - 1s 949us/step - loss: 3.9266 - val_loss: 1.1641\n",
            "Epoch 51/100\n",
            "1000/1000 [==============================] - 1s 935us/step - loss: 3.9337 - val_loss: 1.3636\n",
            "Epoch 52/100\n",
            "1000/1000 [==============================] - 1s 978us/step - loss: 3.5758 - val_loss: 1.0044\n",
            "Epoch 53/100\n",
            "1000/1000 [==============================] - 1s 926us/step - loss: 3.7615 - val_loss: 1.2392\n",
            "Epoch 54/100\n",
            "1000/1000 [==============================] - 1s 964us/step - loss: 3.1019 - val_loss: 1.3526\n",
            "Epoch 55/100\n",
            "1000/1000 [==============================] - 1s 959us/step - loss: 3.6937 - val_loss: 2.5923\n",
            "Epoch 56/100\n",
            "1000/1000 [==============================] - 1s 958us/step - loss: 3.9917 - val_loss: 1.4932\n",
            "Epoch 57/100\n",
            "1000/1000 [==============================] - 1s 981us/step - loss: 3.3868 - val_loss: 1.6522\n",
            "Epoch 58/100\n",
            "1000/1000 [==============================] - 1s 965us/step - loss: 3.7128 - val_loss: 1.3028\n",
            "Epoch 59/100\n",
            "1000/1000 [==============================] - 1s 965us/step - loss: 3.4290 - val_loss: 2.7136\n",
            "Epoch 60/100\n",
            "1000/1000 [==============================] - 1s 941us/step - loss: 3.6756 - val_loss: 1.4018\n",
            "Epoch 61/100\n",
            "1000/1000 [==============================] - 1s 976us/step - loss: 3.4572 - val_loss: 1.2400\n",
            "Epoch 62/100\n",
            "1000/1000 [==============================] - 1s 984us/step - loss: 3.6231 - val_loss: 1.4536\n",
            "Epoch 63/100\n",
            "1000/1000 [==============================] - 1s 972us/step - loss: 3.8071 - val_loss: 1.0219\n",
            "Epoch 64/100\n",
            "1000/1000 [==============================] - 1s 950us/step - loss: 3.5995 - val_loss: 1.6454\n",
            "Epoch 65/100\n",
            "1000/1000 [==============================] - 1s 970us/step - loss: 3.6783 - val_loss: 1.4137\n",
            "Epoch 66/100\n",
            "1000/1000 [==============================] - 1s 993us/step - loss: 4.0502 - val_loss: 1.4578\n",
            "Epoch 67/100\n",
            "1000/1000 [==============================] - 1s 983us/step - loss: 3.8214 - val_loss: 1.0609\n",
            "Epoch 68/100\n",
            "1000/1000 [==============================] - 1s 956us/step - loss: 3.6394 - val_loss: 1.1704\n",
            "Epoch 69/100\n",
            "1000/1000 [==============================] - 1s 976us/step - loss: 3.8719 - val_loss: 0.9264\n",
            "Epoch 70/100\n",
            "1000/1000 [==============================] - 1s 984us/step - loss: 3.5007 - val_loss: 0.9765\n",
            "Epoch 71/100\n",
            "1000/1000 [==============================] - 1s 950us/step - loss: 3.6674 - val_loss: 0.9910\n",
            "Epoch 72/100\n",
            "1000/1000 [==============================] - 1s 966us/step - loss: 3.8372 - val_loss: 0.9754\n",
            "Epoch 73/100\n",
            "1000/1000 [==============================] - 1s 990us/step - loss: 3.3767 - val_loss: 1.2297\n",
            "Epoch 74/100\n",
            "1000/1000 [==============================] - 1s 975us/step - loss: 3.3154 - val_loss: 1.0167\n",
            "Epoch 75/100\n",
            "1000/1000 [==============================] - 1s 944us/step - loss: 3.4650 - val_loss: 1.2540\n",
            "Epoch 76/100\n",
            "1000/1000 [==============================] - 1s 951us/step - loss: 3.5856 - val_loss: 1.1246\n",
            "Epoch 77/100\n",
            "1000/1000 [==============================] - 1s 971us/step - loss: 3.6409 - val_loss: 1.3147\n",
            "Epoch 78/100\n",
            "1000/1000 [==============================] - 1s 946us/step - loss: 3.8275 - val_loss: 0.9947\n",
            "Epoch 79/100\n",
            "1000/1000 [==============================] - 1s 977us/step - loss: 3.2936 - val_loss: 1.0375\n",
            "Epoch 80/100\n",
            "1000/1000 [==============================] - 1s 987us/step - loss: 3.0629 - val_loss: 0.9007\n",
            "Epoch 81/100\n",
            "1000/1000 [==============================] - 1s 951us/step - loss: 3.5157 - val_loss: 1.2133\n",
            "Epoch 82/100\n",
            "1000/1000 [==============================] - 1s 985us/step - loss: 3.6600 - val_loss: 3.0008\n",
            "Epoch 83/100\n",
            "1000/1000 [==============================] - 1s 969us/step - loss: 3.5002 - val_loss: 0.9288\n",
            "Epoch 84/100\n",
            "1000/1000 [==============================] - 1s 942us/step - loss: 3.6125 - val_loss: 1.0333\n",
            "Epoch 85/100\n",
            "1000/1000 [==============================] - 1s 984us/step - loss: 3.3835 - val_loss: 1.5673\n",
            "Epoch 86/100\n",
            "1000/1000 [==============================] - 1s 963us/step - loss: 3.6182 - val_loss: 0.9799\n",
            "Epoch 87/100\n",
            "1000/1000 [==============================] - 1s 952us/step - loss: 3.5685 - val_loss: 1.4399\n",
            "Epoch 88/100\n",
            "1000/1000 [==============================] - 1s 962us/step - loss: 3.3985 - val_loss: 1.0237\n",
            "Epoch 89/100\n",
            "1000/1000 [==============================] - 1s 954us/step - loss: 3.2248 - val_loss: 1.0668\n",
            "Epoch 90/100\n",
            "1000/1000 [==============================] - 1s 948us/step - loss: 3.4065 - val_loss: 1.0261\n",
            "Epoch 91/100\n",
            "1000/1000 [==============================] - 1s 941us/step - loss: 3.1777 - val_loss: 1.0922\n",
            "Epoch 92/100\n",
            "1000/1000 [==============================] - 1s 958us/step - loss: 3.2299 - val_loss: 3.2339\n",
            "Epoch 93/100\n",
            "1000/1000 [==============================] - 1s 983us/step - loss: 3.9575 - val_loss: 0.9221\n",
            "Epoch 94/100\n",
            "1000/1000 [==============================] - 1s 1ms/step - loss: 3.6055 - val_loss: 0.9375\n",
            "Epoch 95/100\n",
            "1000/1000 [==============================] - 1s 996us/step - loss: 3.3884 - val_loss: 0.9630\n",
            "Epoch 96/100\n",
            "1000/1000 [==============================] - 1s 1ms/step - loss: 3.5972 - val_loss: 0.9283\n",
            "Epoch 97/100\n",
            "1000/1000 [==============================] - 1s 968us/step - loss: 3.4118 - val_loss: 0.9097\n",
            "Epoch 98/100\n",
            "1000/1000 [==============================] - 1s 943us/step - loss: 3.6298 - val_loss: 0.9249\n",
            "Epoch 99/100\n",
            "1000/1000 [==============================] - 1s 960us/step - loss: 3.5362 - val_loss: 1.1279\n",
            "Epoch 100/100\n",
            "1000/1000 [==============================] - 1s 944us/step - loss: 3.5542 - val_loss: 0.8815\n"
          ],
          "name": "stdout"
        }
      ]
    },
    {
      "cell_type": "code",
      "metadata": {
        "id": "kZ927wfRUEFm",
        "colab_type": "code",
        "colab": {
          "base_uri": "https://localhost:8080/",
          "height": 283
        },
        "outputId": "03073456-92af-4e1c-d221-984a053f98fd"
      },
      "source": [
        "tr_loss = history2.history['loss']\n",
        "val_loss = history2.history['val_loss']\n",
        "ep = list(range(1,101))\n",
        "plt.plot(ep,tr_loss,color='r')\n",
        "plt.plot(ep,val_loss,color='b')"
      ],
      "execution_count": null,
      "outputs": [
        {
          "output_type": "execute_result",
          "data": {
            "text/plain": [
              "[<matplotlib.lines.Line2D at 0x7f3657bc8780>]"
            ]
          },
          "metadata": {
            "tags": []
          },
          "execution_count": 76
        },
        {
          "output_type": "display_data",
          "data": {
            "image/png": "[encoded data removed]",
            "text/plain": [
              "<Figure size 432x288 with 1 Axes>"
            ]
          },
          "metadata": {
            "tags": [],
            "needs_background": "light"
          }
        }
      ]
    },
    {
      "cell_type": "code",
      "metadata": {
        "id": "SrrW-NqlU7FJ",
        "colab_type": "code",
        "colab": {
          "base_uri": "https://localhost:8080/",
          "height": 1000
        },
        "outputId": "5bb94078-8d0b-4c8e-e443-7d9b1dafa19d"
      },
      "source": [
        "model2.predict(X_test_sc)"
      ],
      "execution_count": null,
      "outputs": [
        {
          "output_type": "execute_result",
          "data": {
            "text/plain": [
              "array([[45.344677],\n",
              "       [45.286335],\n",
              "       [45.97665 ],\n",
              "       [46.447086],\n",
              "       [47.141148],\n",
              "       [46.94813 ],\n",
              "       [47.3289  ],\n",
              "       [47.26048 ],\n",
              "       [47.131023],\n",
              "       [47.04632 ],\n",
              "       [46.719948],\n",
              "       [46.4475  ],\n",
              "       [46.45431 ],\n",
              "       [46.511097],\n",
              "       [46.54912 ],\n",
              "       [46.981045],\n",
              "       [46.386715],\n",
              "       [46.669384],\n",
              "       [46.04049 ],\n",
              "       [45.355907],\n",
              "       [45.16039 ],\n",
              "       [44.18287 ],\n",
              "       [44.013462],\n",
              "       [43.157246],\n",
              "       [41.92956 ],\n",
              "       [41.945377],\n",
              "       [42.23238 ],\n",
              "       [42.07375 ],\n",
              "       [41.89213 ],\n",
              "       [41.022125],\n",
              "       [40.495197],\n",
              "       [41.086826],\n",
              "       [41.73818 ],\n",
              "       [41.933376],\n",
              "       [42.44244 ],\n",
              "       [42.299244],\n",
              "       [42.474754],\n",
              "       [42.494785],\n",
              "       [42.548428],\n",
              "       [41.619   ],\n",
              "       [41.321846],\n",
              "       [41.639626],\n",
              "       [41.92703 ],\n",
              "       [42.305447],\n",
              "       [43.466602],\n",
              "       [44.035976],\n",
              "       [43.745674],\n",
              "       [44.047924],\n",
              "       [44.052082],\n",
              "       [44.361652],\n",
              "       [45.047253],\n",
              "       [45.296474],\n",
              "       [46.090263],\n",
              "       [46.58146 ],\n",
              "       [46.58392 ],\n",
              "       [45.108223],\n",
              "       [43.517292],\n",
              "       [42.5903  ],\n",
              "       [43.426605],\n",
              "       [44.058994],\n",
              "       [44.14475 ],\n",
              "       [44.45151 ],\n",
              "       [44.877216],\n",
              "       [46.341984],\n",
              "       [47.15952 ],\n",
              "       [46.88953 ],\n",
              "       [46.27754 ],\n",
              "       [46.557613],\n",
              "       [46.96771 ],\n",
              "       [45.910206],\n",
              "       [45.13216 ],\n",
              "       [45.25944 ],\n",
              "       [46.02078 ],\n",
              "       [46.62251 ],\n",
              "       [46.839176],\n",
              "       [47.60507 ],\n",
              "       [48.383785],\n",
              "       [48.22655 ],\n",
              "       [48.34414 ],\n",
              "       [48.81101 ],\n",
              "       [49.27847 ],\n",
              "       [49.567036],\n",
              "       [49.647427],\n",
              "       [50.279305],\n",
              "       [50.86246 ],\n",
              "       [50.442303],\n",
              "       [49.801693],\n",
              "       [49.561825],\n",
              "       [49.482243],\n",
              "       [49.29214 ],\n",
              "       [49.013493],\n",
              "       [49.385616],\n",
              "       [48.683712],\n",
              "       [48.51386 ],\n",
              "       [48.85191 ],\n",
              "       [48.796673],\n",
              "       [48.824688],\n",
              "       [48.676517],\n",
              "       [49.031574],\n",
              "       [49.425102],\n",
              "       [49.924644],\n",
              "       [50.1609  ],\n",
              "       [50.67905 ],\n",
              "       [51.315876],\n",
              "       [52.029972],\n",
              "       [52.109818],\n",
              "       [51.575672],\n",
              "       [52.468307],\n",
              "       [52.88081 ],\n",
              "       [53.145008],\n",
              "       [53.094193],\n",
              "       [52.70616 ],\n",
              "       [52.32897 ],\n",
              "       [52.04846 ],\n",
              "       [51.739285],\n",
              "       [51.289318],\n",
              "       [50.762684],\n",
              "       [50.77267 ],\n",
              "       [50.283787],\n",
              "       [50.29532 ],\n",
              "       [50.338413],\n",
              "       [50.64813 ],\n",
              "       [50.478016],\n",
              "       [50.40324 ],\n",
              "       [50.554085],\n",
              "       [50.49172 ],\n",
              "       [50.14843 ],\n",
              "       [49.670544],\n",
              "       [49.026386],\n",
              "       [48.654095],\n",
              "       [48.794895],\n",
              "       [48.715202],\n",
              "       [48.579426],\n",
              "       [47.16475 ],\n",
              "       [46.1858  ],\n",
              "       [46.005726],\n",
              "       [45.81246 ],\n",
              "       [44.839787],\n",
              "       [43.66718 ],\n",
              "       [44.61784 ],\n",
              "       [45.158783],\n",
              "       [44.956203],\n",
              "       [44.62401 ],\n",
              "       [44.749504],\n",
              "       [45.24029 ],\n",
              "       [44.633568],\n",
              "       [44.439   ],\n",
              "       [44.190453],\n",
              "       [43.9222  ],\n",
              "       [45.1965  ],\n",
              "       [46.156704],\n",
              "       [46.81681 ],\n",
              "       [46.55523 ],\n",
              "       [46.24324 ],\n",
              "       [45.771587],\n",
              "       [45.028713],\n",
              "       [45.325424],\n",
              "       [46.11135 ],\n",
              "       [46.875004],\n",
              "       [47.499844],\n",
              "       [47.63593 ],\n",
              "       [47.23174 ],\n",
              "       [47.431065],\n",
              "       [47.602444],\n",
              "       [47.78156 ],\n",
              "       [49.4018  ],\n",
              "       [50.22211 ],\n",
              "       [50.321705],\n",
              "       [50.735874],\n",
              "       [50.566254],\n",
              "       [51.733555],\n",
              "       [52.144173],\n",
              "       [52.10264 ],\n",
              "       [52.142487],\n",
              "       [51.93886 ],\n",
              "       [51.778748],\n",
              "       [51.69119 ],\n",
              "       [51.39844 ],\n",
              "       [51.48967 ],\n",
              "       [51.0645  ],\n",
              "       [51.35454 ],\n",
              "       [51.058636],\n",
              "       [49.573246],\n",
              "       [48.3656  ],\n",
              "       [47.756344],\n",
              "       [47.32504 ],\n",
              "       [47.710938],\n",
              "       [47.656025],\n",
              "       [47.601772],\n",
              "       [47.637127],\n",
              "       [47.043407],\n",
              "       [46.702694],\n",
              "       [46.263706],\n",
              "       [46.09387 ],\n",
              "       [46.02141 ],\n",
              "       [46.01682 ],\n",
              "       [46.836544],\n",
              "       [47.519726],\n",
              "       [47.557873],\n",
              "       [47.68446 ],\n",
              "       [48.315624],\n",
              "       [48.62147 ],\n",
              "       [48.63724 ],\n",
              "       [48.54678 ],\n",
              "       [48.96472 ],\n",
              "       [49.198647],\n",
              "       [49.91962 ],\n",
              "       [49.424934],\n",
              "       [49.630505],\n",
              "       [49.57883 ],\n",
              "       [49.56918 ],\n",
              "       [50.289616],\n",
              "       [50.647015],\n",
              "       [50.894543],\n",
              "       [50.549488],\n",
              "       [50.18501 ],\n",
              "       [50.148506],\n",
              "       [50.59563 ],\n",
              "       [51.011387],\n",
              "       [51.105053],\n",
              "       [51.3737  ],\n",
              "       [51.931805],\n",
              "       [52.04771 ],\n",
              "       [52.187084],\n",
              "       [52.032875],\n",
              "       [51.98997 ],\n",
              "       [51.784565],\n",
              "       [52.160126],\n",
              "       [52.022717],\n",
              "       [52.07398 ],\n",
              "       [52.128296],\n",
              "       [51.86485 ],\n",
              "       [51.74594 ],\n",
              "       [52.541706],\n",
              "       [54.074417],\n",
              "       [55.416607],\n",
              "       [55.62931 ],\n",
              "       [55.775173],\n",
              "       [55.942066],\n",
              "       [55.897854],\n",
              "       [55.90899 ],\n",
              "       [55.989063],\n",
              "       [54.563885],\n",
              "       [53.19846 ],\n",
              "       [52.753925],\n",
              "       [52.418446],\n",
              "       [52.21603 ],\n",
              "       [52.954308],\n",
              "       [53.059017],\n",
              "       [52.175667],\n",
              "       [50.624134]], dtype=float32)"
            ]
          },
          "metadata": {
            "tags": []
          },
          "execution_count": 74
        }
      ]
    }
  ]
}