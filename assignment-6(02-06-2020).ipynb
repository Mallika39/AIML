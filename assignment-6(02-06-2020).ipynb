{
 "cells": [
  {
   "cell_type": "markdown",
   "metadata": {},
   "source": [
    "# CSE-221710313039-MALLIKA REDDY"
   ]
  },
  {
   "cell_type": "code",
   "execution_count": 1,
   "metadata": {},
   "outputs": [
    {
     "name": "stdout",
     "output_type": "stream",
     "text": [
      "['?', '?', '?', '?', '?']\n",
      "lives left: 9\n",
      "guess a letter or a whole word:m\n",
      "you loose a life!\n",
      "['?', '?', '?', '?', '?']\n",
      "lives left: 8\n",
      "guess a letter or a whole word:g\n",
      "you loose a life!\n",
      "['?', '?', '?', '?', '?']\n",
      "lives left: 7\n",
      "guess a letter or a whole word:j\n",
      "you loose a life!\n",
      "['?', '?', '?', '?', '?']\n",
      "lives left: 6\n",
      "guess a letter or a whole word:b\n",
      "['b', '?', '?', '?', '?']\n",
      "lives left: 6\n",
      "guess a letter or a whole word:d\n",
      "['b', '?', '?', '?', 'd']\n",
      "lives left: 6\n",
      "guess a letter or a whole word:e\n",
      "['b', '?', 'e', '?', 'd']\n",
      "lives left: 6\n",
      "guess a letter or a whole word:r\n",
      "['b', 'r', 'e', '?', 'd']\n",
      "lives left: 6\n",
      "guess a letter or a whole word:a\n",
      "['b', 'r', 'e', 'a', 'd']\n",
      "lives left: 6\n",
      "guess a letter or a whole word:bread\n",
      "you won! the secret word is:bread\n"
     ]
    }
   ],
   "source": [
    "# Nine Lives\n",
    "import random\n",
    "lives = 9\n",
    "words = ['mango','guava','bread','juice']\n",
    "secret_word = random.choice(words)\n",
    "clue = list('?????')\n",
    "counter = 1\n",
    "guessed_word_correctly = False\n",
    "\n",
    "def update_clue(guessed_letter,secret_word,clue):\n",
    "    i=0\n",
    "    while i < len(secret_word):\n",
    "        if guessed_letter == secret_word[i]:\n",
    "            clue[i] = guessed_letter\n",
    "        i = i+1\n",
    "\n",
    "while lives > 0:\n",
    "    print(clue)\n",
    "    print('lives left:',counter * lives)\n",
    "    guess = input('guess a letter or a whole word:')\n",
    "    if guess == secret_word:\n",
    "        guessed_word_correctly = True\n",
    "        break\n",
    "    if guess in secret_word:\n",
    "        update_clue(guess,secret_word,clue)\n",
    "    else:\n",
    "        print('you loose a life!')\n",
    "        lives = lives - 1\n",
    "\n",
    "if guessed_word_correctly:\n",
    "    print('you won! the secret word is:'+secret_word)\n",
    "else:\n",
    "    print('you lost! the secret word is:'+secret_word)"
   ]
  }
 ],
 "metadata": {
  "kernelspec": {
   "display_name": "Python 3",
   "language": "python",
   "name": "python3"
  },
  "language_info": {
   "codemirror_mode": {
    "name": "ipython",
    "version": 3
   },
   "file_extension": ".py",
   "mimetype": "text/x-python",
   "name": "python",
   "nbconvert_exporter": "python",
   "pygments_lexer": "ipython3",
   "version": "3.7.6"
  }
 },
 "nbformat": 4,
 "nbformat_minor": 4
}
