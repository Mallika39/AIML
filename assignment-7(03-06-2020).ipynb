{
 "cells": [
  {
   "cell_type": "code",
   "execution_count": 8,
   "metadata": {},
   "outputs": [],
   "source": [
    "#Q-1 reversing the content of the file and storing in another file\n",
    "f1 = open(\"output1.txt\", \"w\")  \n",
    "with open(\"text.txt\", \"r\") as myfile: \n",
    "    data = myfile.read() \n",
    "data_1 = data[::-1] \n",
    "f1.write(data_1) \n",
    "f1.close() "
   ]
  },
  {
   "cell_type": "code",
   "execution_count": 2,
   "metadata": {},
   "outputs": [
    {
     "name": "stdout",
     "output_type": "stream",
     "text": [
      "1 hello\n",
      "2 welcome\n"
     ]
    }
   ],
   "source": [
    "#printing the content from the text file by using line numbers\n",
    "open_file = open('sample.txt', 'r')\n",
    "line = open_file.readline()\n",
    "linenumber = 1\n",
    "while line !=\"\":\n",
    "    print(linenumber,line.rstrip(\"\\n\"))\n",
    "    line = open_file.readline()\n",
    "    linenumber = linenumber + 1"
   ]
  },
  {
   "cell_type": "code",
   "execution_count": 19,
   "metadata": {},
   "outputs": [
    {
     "name": "stdout",
     "output_type": "stream",
     "text": [
      "True\n",
      "[1, 2, 3]\n"
     ]
    }
   ],
   "source": [
    "#function to find duplicates in the list\n",
    "def duplicate(l):\n",
    "    for i in l:\n",
    "        if(l.count(i)>1):\n",
    "            return True\n",
    "            break\n",
    "        else:\n",
    "            continue\n",
    "    return False\n",
    "def removed(f):\n",
    "    for i in l:\n",
    "        if i not in li:\n",
    "            li.append(i)\n",
    "    return li\n",
    "l = [1,2,3,3,2]\n",
    "li= []\n",
    "f = (duplicate(l))\n",
    "print(f)\n",
    "if(f == True):\n",
    "    print(removed(l))"
   ]
  },
  {
   "cell_type": "code",
   "execution_count": 1,
   "metadata": {},
   "outputs": [
    {
     "name": "stdout",
     "output_type": "stream",
     "text": [
      "Add: 3\n",
      "Subtract: 1/6\n",
      "Multiply: 3/7\n",
      "Divide: 9/5\n",
      "Power: 36/49\n"
     ]
    }
   ],
   "source": [
    "#fractions\n",
    "from fractions import Fraction as frac\n",
    "print('Add: ' + str(frac('9/4') + frac('6/8')))\n",
    "print('Subtract: ' + str(frac('10/15') - frac('4/8')))\n",
    "print('Multiply: ' + str(frac('2/6') * frac('9/7')))\n",
    "print('Divide: ' + str(frac('90/125') / frac('14/35')))\n",
    "print('Power: ' + str(frac('6/7') ** 2))"
   ]
  },
  {
   "cell_type": "code",
   "execution_count": 16,
   "metadata": {},
   "outputs": [
    {
     "name": "stdout",
     "output_type": "stream",
     "text": [
      "True\n"
     ]
    }
   ],
   "source": [
    "#permutation\n",
    "def ispermutation(l1,l2):\n",
    "    sum1 = sum(l1)\n",
    "    sum2 = sum(l2)\n",
    "    if sum1 == sum2:\n",
    "        return True\n",
    "    else:\n",
    "        return False\n",
    "l1 = [1,3,1]\n",
    "l2 = [1,1,3]\n",
    "print(ispermutation(l1,l2))"
   ]
  },
  {
   "cell_type": "code",
   "execution_count": null,
   "metadata": {},
   "outputs": [],
   "source": []
  }
 ],
 "metadata": {
  "kernelspec": {
   "display_name": "Python 3",
   "language": "python",
   "name": "python3"
  },
  "language_info": {
   "codemirror_mode": {
    "name": "ipython",
    "version": 3
   },
   "file_extension": ".py",
   "mimetype": "text/x-python",
   "name": "python",
   "nbconvert_exporter": "python",
   "pygments_lexer": "ipython3",
   "version": "3.7.6"
  }
 },
 "nbformat": 4,
 "nbformat_minor": 4
}
