{
 "cells": [
  {
   "cell_type": "code",
   "execution_count": 4,
   "metadata": {},
   "outputs": [
    {
     "name": "stdout",
     "output_type": "stream",
     "text": [
      "chubbycat89!\n",
      "do you want another password \n",
      "chubbycat48!\n",
      "do you want another password \n",
      "beautifulsun31@\n",
      "do you want another password \n",
      "sleepingcountry68*\n",
      "do you want another password \n",
      "eatingmilk93$\n",
      "do you want another password \n",
      "fitsun18#\n",
      "do you want another password \n",
      "beautifulocean88*\n",
      "do you want another password no\n"
     ]
    }
   ],
   "source": [
    "l1=[\"attractive\",\"ugly\",\"beautiful\",\"chubby\",\"dirty\",\"eating\",\"sleeping\",\"thin\",\"crying\",\"fit\"]\n",
    "l2=[\"name\",\"sun\",\"business\",\"case\",\"man\",\"ocean\",\"country\",\"day\",\"milk\",\"cat\"]\n",
    "l3=[\"!\",\"@\",\"#\",\"$\",\"%\",\"*\"]\n",
    "import random\n",
    "while True:\n",
    "    x=str(random.choice(l1))\n",
    "    y=str(random.choice(l2))\n",
    "    z=str(random.randint(0,100))\n",
    "    w=str(random.choice(l3))\n",
    "    print(str(x+y+z+w))\n",
    "    pwd=input(\"do you want another password \")\n",
    "    if pwd==\"no\":\n",
    "        break\n",
    "    else:\n",
    "        continue\n"
   ]
  },
  {
   "cell_type": "code",
   "execution_count": null,
   "metadata": {},
   "outputs": [],
   "source": []
  }
 ],
 "metadata": {
  "kernelspec": {
   "display_name": "Python 3",
   "language": "python",
   "name": "python3"
  },
  "language_info": {
   "codemirror_mode": {
    "name": "ipython",
    "version": 3
   },
   "file_extension": ".py",
   "mimetype": "text/x-python",
   "name": "python",
   "nbconvert_exporter": "python",
   "pygments_lexer": "ipython3",
   "version": "3.7.6"
  }
 },
 "nbformat": 4,
 "nbformat_minor": 4
}
