{
 "cells": [
  {
   "cell_type": "markdown",
   "metadata": {},
   "source": [
    "# CSE-221710313039-MALLIKA REDDY"
   ]
  },
  {
   "cell_type": "code",
   "execution_count": 19,
   "metadata": {},
   "outputs": [
    {
     "name": "stdout",
     "output_type": "stream",
     "text": [
      "python\n",
      "programming\n"
     ]
    }
   ],
   "source": [
    "#displaying the word starts with \"p\"\n",
    "str=\"python is a high_level programming language\"\n",
    "for i in str.split():\n",
    "    if i.startswith(\"p\"):\n",
    "        print(i)"
   ]
  },
  {
   "cell_type": "code",
   "execution_count": 11,
   "metadata": {},
   "outputs": [],
   "source": [
    "#rename()\n",
    "import os\n",
    "os.rename( \"sample.txt\",\"text.txt\")"
   ]
  },
  {
   "cell_type": "code",
   "execution_count": 12,
   "metadata": {},
   "outputs": [],
   "source": [
    "#remove()\n",
    "import os\n",
    "os.remove(\"text.txt\")"
   ]
  },
  {
   "cell_type": "code",
   "execution_count": 14,
   "metadata": {},
   "outputs": [],
   "source": [
    "#copying the content to another file\n",
    "new_file = open(\"out.txt\",\"w\")\n",
    "with open(\"text.txt\",\"r\") as f:\n",
    "    new_file.write(f.read())\n",
    "    new_file.close()"
   ]
  },
  {
   "cell_type": "code",
   "execution_count": 1,
   "metadata": {},
   "outputs": [
    {
     "name": "stdout",
     "output_type": "stream",
     "text": [
      "number of lines in the file= 1\n",
      "number of words in the file= 5\n",
      "number of letters in the file= 31\n"
     ]
    }
   ],
   "source": [
    "#Count no.of words,no.of letters,no.of lines available in your file\n",
    "file=open(\"text.txt\",\"r\")\n",
    "content=file.read()\n",
    "list1=content.split(\"\\n\")\n",
    "list2=content.split()\n",
    "print(\"number of lines in the file=\",len(list1))\n",
    "print(\"number of words in the file=\",len(list2))\n",
    "print(\"number of letters in the file=\",sum(len(word) for word in list2))"
   ]
  },
  {
   "cell_type": "code",
   "execution_count": 3,
   "metadata": {
    "scrolled": true
   },
   "outputs": [
    {
     "data": {
      "text/plain": [
       "'C:\\\\Users\\\\91912\\\\Desktop\\\\AI and ML'"
      ]
     },
     "execution_count": 3,
     "metadata": {},
     "output_type": "execute_result"
    }
   ],
   "source": [
    "pwd"
   ]
  },
  {
   "cell_type": "code",
   "execution_count": 6,
   "metadata": {},
   "outputs": [],
   "source": [
    "#folder --> 5files -->unique -->512 bits\n",
    "import os\n",
    "import string\n",
    "import random\n",
    "#os.mkdir(\"python\")\n",
    "for i in range(5):\n",
    "    file_name=\"C:\\\\Users\\\\91912\\\\Desktop\\\\AI and ML\\\\python\\\\file%d\"%(i)\n",
    "    f = open(file_name,\"a\")\n",
    "    data = \"\"\n",
    "    for i in range(512):\n",
    "        data = data + random.choice(string.ascii_letters)\n",
    "    f.write(data)\n",
    "    f.close()"
   ]
  }
 ],
 "metadata": {
  "kernelspec": {
   "display_name": "Python 3",
   "language": "python",
   "name": "python3"
  },
  "language_info": {
   "codemirror_mode": {
    "name": "ipython",
    "version": 3
   },
   "file_extension": ".py",
   "mimetype": "text/x-python",
   "name": "python",
   "nbconvert_exporter": "python",
   "pygments_lexer": "ipython3",
   "version": "3.7.6"
  }
 },
 "nbformat": 4,
 "nbformat_minor": 4
}
